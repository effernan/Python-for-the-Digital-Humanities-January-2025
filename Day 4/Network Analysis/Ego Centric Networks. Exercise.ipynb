{
 "cells": [
  {
   "cell_type": "markdown",
   "id": "c59bb143",
   "metadata": {},
   "source": [
    "# Ego-Centric Networks Exercise"
   ]
  },
  {
   "cell_type": "markdown",
   "id": "486a3cd9",
   "metadata": {},
   "source": [
    "Let's practice Ego-Centric Networks using Hamlet! Let's zoom in into the Ego-Centric Network of Hamlet himself."
   ]
  },
  {
   "cell_type": "markdown",
   "id": "eacf1057",
   "metadata": {},
   "source": [
    "# 1. We import the libraries"
   ]
  },
  {
   "cell_type": "code",
   "execution_count": 1,
   "id": "2a46b1fb",
   "metadata": {},
   "outputs": [],
   "source": [
    "#Your code in here"
   ]
  },
  {
   "cell_type": "code",
   "execution_count": 1,
   "id": "43d5af56",
   "metadata": {},
   "outputs": [],
   "source": [
    "#Solution\n",
    "\n",
    "import pandas as pd\n",
    "import networkx as nx\n",
    "import matplotlib.pyplot as plt"
   ]
  },
  {
   "cell_type": "markdown",
   "id": "5fc7e80b",
   "metadata": {},
   "source": [
    "And let's not forget to creat G"
   ]
  },
  {
   "cell_type": "code",
   "execution_count": 2,
   "id": "9e91b594",
   "metadata": {},
   "outputs": [],
   "source": [
    "#Your code in here"
   ]
  },
  {
   "cell_type": "code",
   "execution_count": 3,
   "id": "fce818a8",
   "metadata": {},
   "outputs": [],
   "source": [
    "#Solution\n",
    "\n",
    "G = nx.Graph()"
   ]
  },
  {
   "cell_type": "markdown",
   "id": "2eb35f11",
   "metadata": {},
   "source": [
    "Reminder: how to clear our network if we need to"
   ]
  },
  {
   "cell_type": "code",
   "execution_count": 4,
   "id": "c5d6e215",
   "metadata": {},
   "outputs": [],
   "source": [
    "G.clear() "
   ]
  },
  {
   "cell_type": "markdown",
   "id": "1072bba5",
   "metadata": {},
   "source": [
    "# 2. Hamlet"
   ]
  },
  {
   "cell_type": "markdown",
   "id": "d10b647d",
   "metadata": {},
   "source": [
    "Book in hand let's count how many times and with whom Hamlet talks to (we can re-use our previous Exercise 2 weighted social network script)"
   ]
  },
  {
   "cell_type": "markdown",
   "id": "bb15094c",
   "metadata": {},
   "source": [
    "### Nodes"
   ]
  },
  {
   "cell_type": "code",
   "execution_count": 5,
   "id": "54b6da19",
   "metadata": {},
   "outputs": [],
   "source": [
    "#Your code in here"
   ]
  },
  {
   "cell_type": "code",
   "execution_count": 6,
   "id": "9a85ed50",
   "metadata": {},
   "outputs": [],
   "source": [
    "#Solution\n",
    "\n",
    "G.add_node(\"King\")"
   ]
  },
  {
   "cell_type": "code",
   "execution_count": 7,
   "id": "9bbe4e8e",
   "metadata": {},
   "outputs": [],
   "source": [
    "G.add_node(\"Queen\")"
   ]
  },
  {
   "cell_type": "code",
   "execution_count": 8,
   "id": "d1b9ac6c",
   "metadata": {},
   "outputs": [],
   "source": [
    "G.add_node(\"Horatio\") "
   ]
  },
  {
   "cell_type": "code",
   "execution_count": 9,
   "id": "0758b81e",
   "metadata": {},
   "outputs": [],
   "source": [
    "G.add_node(\"Marcellus\") "
   ]
  },
  {
   "cell_type": "code",
   "execution_count": 10,
   "id": "288f4c58",
   "metadata": {},
   "outputs": [],
   "source": [
    "G.add_node(\"Ghost\") "
   ]
  },
  {
   "cell_type": "code",
   "execution_count": 11,
   "id": "00605da2",
   "metadata": {},
   "outputs": [],
   "source": [
    "G.add_node(\"Polonius\") "
   ]
  },
  {
   "cell_type": "code",
   "execution_count": 12,
   "id": "79bdf3b4",
   "metadata": {},
   "outputs": [],
   "source": [
    "G.add_node(\"Guildenstern\") "
   ]
  },
  {
   "cell_type": "code",
   "execution_count": 13,
   "id": "64f9c36c",
   "metadata": {},
   "outputs": [],
   "source": [
    "G.add_node(\"Rosencrantz\") "
   ]
  },
  {
   "cell_type": "code",
   "execution_count": 14,
   "id": "2dda9eaa",
   "metadata": {},
   "outputs": [],
   "source": [
    "G.add_node(\"First Player\") "
   ]
  },
  {
   "cell_type": "code",
   "execution_count": 15,
   "id": "b59d2b20",
   "metadata": {},
   "outputs": [],
   "source": [
    "G.add_node(\"Ophelia\") "
   ]
  },
  {
   "cell_type": "code",
   "execution_count": 16,
   "id": "a43d8fb9",
   "metadata": {},
   "outputs": [],
   "source": [
    "G.add_node(\"Captain\") "
   ]
  },
  {
   "cell_type": "code",
   "execution_count": 17,
   "id": "b05070f8",
   "metadata": {},
   "outputs": [],
   "source": [
    "G.add_node(\"First Clown\") "
   ]
  },
  {
   "cell_type": "code",
   "execution_count": 18,
   "id": "2fc9dd00",
   "metadata": {},
   "outputs": [],
   "source": [
    "G.add_node(\"Laertes\") "
   ]
  },
  {
   "cell_type": "code",
   "execution_count": 19,
   "id": "774b2bf4",
   "metadata": {},
   "outputs": [],
   "source": [
    "G.add_node(\"Osric\") "
   ]
  },
  {
   "cell_type": "code",
   "execution_count": 20,
   "id": "50b2e342",
   "metadata": {},
   "outputs": [],
   "source": [
    "G.add_node(\"Lord\") "
   ]
  },
  {
   "cell_type": "markdown",
   "id": "e19f1bc3",
   "metadata": {},
   "source": [
    "# Edges"
   ]
  },
  {
   "cell_type": "code",
   "execution_count": 21,
   "id": "b702bc1f",
   "metadata": {},
   "outputs": [],
   "source": [
    "#Your code in here"
   ]
  },
  {
   "cell_type": "code",
   "execution_count": 22,
   "id": "de7af241",
   "metadata": {},
   "outputs": [],
   "source": [
    "#Solution\n",
    "\n",
    "G.add_edge(\"King\", \"Hamlet\", weight = 60) "
   ]
  },
  {
   "cell_type": "code",
   "execution_count": 23,
   "id": "5b9e5de9",
   "metadata": {},
   "outputs": [],
   "source": [
    "G.add_edge(\"Queen\", \"Hamlet\", weight = 64) "
   ]
  },
  {
   "cell_type": "code",
   "execution_count": 24,
   "id": "5c516b7f",
   "metadata": {},
   "outputs": [],
   "source": [
    "G.add_edge(\"Horatio\", \"Hamlet\", weight = 150) "
   ]
  },
  {
   "cell_type": "code",
   "execution_count": 25,
   "id": "0a68c9a0",
   "metadata": {},
   "outputs": [],
   "source": [
    "G.add_edge(\"Hamlet\", \"Marcellus\", weight = 12) "
   ]
  },
  {
   "cell_type": "code",
   "execution_count": 26,
   "id": "157883b4",
   "metadata": {},
   "outputs": [],
   "source": [
    "G.add_edge(\"Hamlet\", \"Ghost\", weight = 27) "
   ]
  },
  {
   "cell_type": "code",
   "execution_count": 27,
   "id": "fec744e3",
   "metadata": {},
   "outputs": [],
   "source": [
    "G.add_edge(\"Hamlet\", \"Polonius\", weight = 71) "
   ]
  },
  {
   "cell_type": "code",
   "execution_count": 28,
   "id": "ebd98990",
   "metadata": {},
   "outputs": [],
   "source": [
    "G.add_edge(\"Guildenstern\", \"Hamlet\", weight = 52)"
   ]
  },
  {
   "cell_type": "code",
   "execution_count": 29,
   "id": "193c3861",
   "metadata": {},
   "outputs": [],
   "source": [
    "G.add_edge(\"Hamlet\", \"Rosencrantz\", weight = 58)"
   ]
  },
  {
   "cell_type": "code",
   "execution_count": 30,
   "id": "a6a93011",
   "metadata": {},
   "outputs": [],
   "source": [
    "G.add_edge(\"First Player\", \"Hamlet\", weight = 12)"
   ]
  },
  {
   "cell_type": "code",
   "execution_count": 31,
   "id": "b477c6d5",
   "metadata": {},
   "outputs": [],
   "source": [
    "G.add_edge(\"Ophelia\", \"Hamlet\", weight = 56)"
   ]
  },
  {
   "cell_type": "code",
   "execution_count": 32,
   "id": "3048a44e",
   "metadata": {},
   "outputs": [],
   "source": [
    "G.add_edge(\"Captain\", \"Hamlet\", weight = 12)"
   ]
  },
  {
   "cell_type": "code",
   "execution_count": 33,
   "id": "428f8249",
   "metadata": {},
   "outputs": [],
   "source": [
    "G.add_edge(\"First Clown\", \"Hamlet\", weight = 38)"
   ]
  },
  {
   "cell_type": "code",
   "execution_count": 34,
   "id": "528e8a90",
   "metadata": {},
   "outputs": [],
   "source": [
    "G.add_edge(\"Hamlet\", \"Laertes\", weight = 10)"
   ]
  },
  {
   "cell_type": "code",
   "execution_count": 35,
   "id": "2c7f2d8a",
   "metadata": {},
   "outputs": [],
   "source": [
    "G.add_edge(\"Osric\", \"Hamlet\", weight = 34)"
   ]
  },
  {
   "cell_type": "code",
   "execution_count": 36,
   "id": "a41c554a",
   "metadata": {},
   "outputs": [],
   "source": [
    "G.add_edge(\"Lord\", \"Hamlet\", weight = 6)"
   ]
  },
  {
   "cell_type": "markdown",
   "id": "f1e71bda",
   "metadata": {},
   "source": [
    "# 3. We check the structure of our Network"
   ]
  },
  {
   "cell_type": "markdown",
   "id": "1328f53a",
   "metadata": {},
   "source": [
    "Let's check the number of nodes"
   ]
  },
  {
   "cell_type": "code",
   "execution_count": 37,
   "id": "75299619",
   "metadata": {},
   "outputs": [],
   "source": [
    "#Your code in here"
   ]
  },
  {
   "cell_type": "code",
   "execution_count": 38,
   "id": "96736f21",
   "metadata": {},
   "outputs": [
    {
     "data": {
      "text/plain": [
       "16"
      ]
     },
     "execution_count": 38,
     "metadata": {},
     "output_type": "execute_result"
    }
   ],
   "source": [
    "#Solution\n",
    "\n",
    "G.number_of_nodes()"
   ]
  },
  {
   "cell_type": "markdown",
   "id": "e7dddc54",
   "metadata": {},
   "source": [
    "And now let's check the number of edges"
   ]
  },
  {
   "cell_type": "code",
   "execution_count": 39,
   "id": "a9838f3f",
   "metadata": {},
   "outputs": [],
   "source": [
    "#Your code in here"
   ]
  },
  {
   "cell_type": "code",
   "execution_count": 40,
   "id": "b0929e85",
   "metadata": {},
   "outputs": [
    {
     "data": {
      "text/plain": [
       "15"
      ]
     },
     "execution_count": 40,
     "metadata": {},
     "output_type": "execute_result"
    }
   ],
   "source": [
    "#Solution\n",
    "\n",
    "G.number_of_edges()"
   ]
  },
  {
   "cell_type": "code",
   "execution_count": 41,
   "id": "5aefc6c0",
   "metadata": {},
   "outputs": [
    {
     "data": {
      "text/plain": [
       "[('King', 'Hamlet'),\n",
       " ('Queen', 'Hamlet'),\n",
       " ('Horatio', 'Hamlet'),\n",
       " ('Marcellus', 'Hamlet'),\n",
       " ('Ghost', 'Hamlet'),\n",
       " ('Polonius', 'Hamlet'),\n",
       " ('Guildenstern', 'Hamlet'),\n",
       " ('Rosencrantz', 'Hamlet'),\n",
       " ('First Player', 'Hamlet'),\n",
       " ('Ophelia', 'Hamlet'),\n",
       " ('Captain', 'Hamlet'),\n",
       " ('First Clown', 'Hamlet'),\n",
       " ('Laertes', 'Hamlet'),\n",
       " ('Osric', 'Hamlet'),\n",
       " ('Lord', 'Hamlet')]"
      ]
     },
     "execution_count": 41,
     "metadata": {},
     "output_type": "execute_result"
    }
   ],
   "source": [
    "list(G.edges)"
   ]
  },
  {
   "cell_type": "markdown",
   "id": "1849bf55",
   "metadata": {},
   "source": [
    "Let's check the weight of the edges"
   ]
  },
  {
   "cell_type": "code",
   "execution_count": 42,
   "id": "5347ea59",
   "metadata": {},
   "outputs": [],
   "source": [
    "#Your code in here"
   ]
  },
  {
   "cell_type": "code",
   "execution_count": 43,
   "id": "b8dd3e5e",
   "metadata": {},
   "outputs": [
    {
     "data": {
      "text/plain": [
       "{('King', 'Hamlet'): 60,\n",
       " ('Queen', 'Hamlet'): 64,\n",
       " ('Horatio', 'Hamlet'): 150,\n",
       " ('Marcellus', 'Hamlet'): 12,\n",
       " ('Ghost', 'Hamlet'): 27,\n",
       " ('Polonius', 'Hamlet'): 71,\n",
       " ('Guildenstern', 'Hamlet'): 52,\n",
       " ('Rosencrantz', 'Hamlet'): 58,\n",
       " ('First Player', 'Hamlet'): 12,\n",
       " ('Ophelia', 'Hamlet'): 56,\n",
       " ('Captain', 'Hamlet'): 12,\n",
       " ('First Clown', 'Hamlet'): 38,\n",
       " ('Laertes', 'Hamlet'): 10,\n",
       " ('Osric', 'Hamlet'): 34,\n",
       " ('Lord', 'Hamlet'): 6}"
      ]
     },
     "execution_count": 43,
     "metadata": {},
     "output_type": "execute_result"
    }
   ],
   "source": [
    "#Solution\n",
    "\n",
    "edge_weights = nx.get_edge_attributes(G, \"weight\")\n",
    "edge_weights"
   ]
  },
  {
   "cell_type": "code",
   "execution_count": 44,
   "id": "6b6eb067",
   "metadata": {},
   "outputs": [
    {
     "data": {
      "text/plain": [
       "[(('Horatio', 'Hamlet'), 150),\n",
       " (('Polonius', 'Hamlet'), 71),\n",
       " (('Queen', 'Hamlet'), 64),\n",
       " (('King', 'Hamlet'), 60),\n",
       " (('Rosencrantz', 'Hamlet'), 58),\n",
       " (('Ophelia', 'Hamlet'), 56),\n",
       " (('Guildenstern', 'Hamlet'), 52),\n",
       " (('First Clown', 'Hamlet'), 38),\n",
       " (('Osric', 'Hamlet'), 34),\n",
       " (('Ghost', 'Hamlet'), 27),\n",
       " (('Marcellus', 'Hamlet'), 12),\n",
       " (('First Player', 'Hamlet'), 12),\n",
       " (('Captain', 'Hamlet'), 12),\n",
       " (('Laertes', 'Hamlet'), 10),\n",
       " (('Lord', 'Hamlet'), 6)]"
      ]
     },
     "execution_count": 44,
     "metadata": {},
     "output_type": "execute_result"
    }
   ],
   "source": [
    "sorted_weights = sorted(edge_weights.items(), key=lambda x: x[1], reverse = True)\n",
    "sorted_weights"
   ]
  },
  {
   "cell_type": "markdown",
   "id": "04c0d2d0",
   "metadata": {},
   "source": [
    "# 4. Network Metrics"
   ]
  },
  {
   "cell_type": "markdown",
   "id": "e7f870ae",
   "metadata": {},
   "source": [
    "1. Calculating **Network Degree** (the hub of the network)"
   ]
  },
  {
   "cell_type": "code",
   "execution_count": 45,
   "id": "5c73f56a",
   "metadata": {},
   "outputs": [],
   "source": [
    "#Your code in here"
   ]
  },
  {
   "cell_type": "code",
   "execution_count": 46,
   "id": "0fbaccb5",
   "metadata": {},
   "outputs": [],
   "source": [
    "#Solution\n",
    "weighted_degrees = dict(G.degree(weight='weight'))"
   ]
  },
  {
   "cell_type": "code",
   "execution_count": 47,
   "id": "d7bb4b9e",
   "metadata": {},
   "outputs": [
    {
     "data": {
      "text/plain": [
       "{'King': 60,\n",
       " 'Queen': 64,\n",
       " 'Horatio': 150,\n",
       " 'Marcellus': 12,\n",
       " 'Ghost': 27,\n",
       " 'Polonius': 71,\n",
       " 'Guildenstern': 52,\n",
       " 'Rosencrantz': 58,\n",
       " 'First Player': 12,\n",
       " 'Ophelia': 56,\n",
       " 'Captain': 12,\n",
       " 'First Clown': 38,\n",
       " 'Laertes': 10,\n",
       " 'Osric': 34,\n",
       " 'Lord': 6,\n",
       " 'Hamlet': 662}"
      ]
     },
     "execution_count": 47,
     "metadata": {},
     "output_type": "execute_result"
    }
   ],
   "source": [
    "weighted_degrees"
   ]
  },
  {
   "cell_type": "code",
   "execution_count": 48,
   "id": "8e14afb8",
   "metadata": {},
   "outputs": [],
   "source": [
    "sorted_weighted_degrees = sorted(weighted_degrees.items(), key=lambda x: x[1], reverse=True)"
   ]
  },
  {
   "cell_type": "code",
   "execution_count": 49,
   "id": "049837bd",
   "metadata": {},
   "outputs": [
    {
     "data": {
      "text/plain": [
       "[('Hamlet', 662),\n",
       " ('Horatio', 150),\n",
       " ('Polonius', 71),\n",
       " ('Queen', 64),\n",
       " ('King', 60),\n",
       " ('Rosencrantz', 58),\n",
       " ('Ophelia', 56),\n",
       " ('Guildenstern', 52),\n",
       " ('First Clown', 38),\n",
       " ('Osric', 34),\n",
       " ('Ghost', 27),\n",
       " ('Marcellus', 12),\n",
       " ('First Player', 12),\n",
       " ('Captain', 12),\n",
       " ('Laertes', 10),\n",
       " ('Lord', 6)]"
      ]
     },
     "execution_count": 49,
     "metadata": {},
     "output_type": "execute_result"
    }
   ],
   "source": [
    "sorted_weighted_degrees"
   ]
  },
  {
   "cell_type": "markdown",
   "id": "98011a23",
   "metadata": {},
   "source": [
    "The hub of the network is **Hamlet** because this is an Ego-Centric Network!"
   ]
  },
  {
   "cell_type": "markdown",
   "id": "47196256",
   "metadata": {},
   "source": [
    "# 5. Network Visualization"
   ]
  },
  {
   "cell_type": "markdown",
   "id": "b1394262",
   "metadata": {},
   "source": [
    "First of all let's define the position of the nodes in the network."
   ]
  },
  {
   "cell_type": "code",
   "execution_count": 50,
   "id": "a8240ae4",
   "metadata": {},
   "outputs": [],
   "source": [
    "#Your code in here"
   ]
  },
  {
   "cell_type": "code",
   "execution_count": 51,
   "id": "9a6f7b08",
   "metadata": {},
   "outputs": [
    {
     "data": {
      "text/plain": [
       "{'King': array([-0.41145293,  0.0681664 ]),\n",
       " 'Queen': array([0.1899208 , 0.29545378]),\n",
       " 'Horatio': array([-0.07724943,  0.19257432]),\n",
       " 'Marcellus': array([ 0.01281273, -0.81661822]),\n",
       " 'Ghost': array([-0.34117158, -0.46704577]),\n",
       " 'Polonius': array([0.28179034, 0.04974814]),\n",
       " 'Guildenstern': array([-0.00725401, -0.33716435]),\n",
       " 'Rosencrantz': array([-0.31541928,  0.31142767]),\n",
       " 'First Player': array([-0.89681565, -0.0274488 ]),\n",
       " 'Ophelia': array([ 0.24816022, -0.20746511]),\n",
       " 'Captain': array([0.29820401, 0.7750363 ]),\n",
       " 'First Clown': array([-0.45700529, -0.19792449]),\n",
       " 'Laertes': array([ 0.67943945, -0.49684107]),\n",
       " 'Osric': array([-0.1626847 ,  0.54636827]),\n",
       " 'Lord': array([1.        , 0.29881768]),\n",
       " 'Hamlet': array([-0.04127468,  0.01291524])}"
      ]
     },
     "execution_count": 51,
     "metadata": {},
     "output_type": "execute_result"
    }
   ],
   "source": [
    "#Solution\n",
    "\n",
    "pos = nx.spring_layout(G, seed=7)\n",
    "pos"
   ]
  },
  {
   "cell_type": "markdown",
   "id": "8c55bbdd",
   "metadata": {},
   "source": [
    "Let's now use Network Degree"
   ]
  },
  {
   "cell_type": "code",
   "execution_count": 52,
   "id": "94ef536b",
   "metadata": {},
   "outputs": [],
   "source": [
    "#Your code in here"
   ]
  },
  {
   "cell_type": "code",
   "execution_count": 53,
   "id": "4129e5b6",
   "metadata": {},
   "outputs": [
    {
     "data": {
      "text/plain": [
       "{'King': 60,\n",
       " 'Queen': 64,\n",
       " 'Horatio': 150,\n",
       " 'Marcellus': 12,\n",
       " 'Ghost': 27,\n",
       " 'Polonius': 71,\n",
       " 'Guildenstern': 52,\n",
       " 'Rosencrantz': 58,\n",
       " 'First Player': 12,\n",
       " 'Ophelia': 56,\n",
       " 'Captain': 12,\n",
       " 'First Clown': 38,\n",
       " 'Laertes': 10,\n",
       " 'Osric': 34,\n",
       " 'Lord': 6,\n",
       " 'Hamlet': 662}"
      ]
     },
     "execution_count": 53,
     "metadata": {},
     "output_type": "execute_result"
    }
   ],
   "source": [
    "#Solution\n",
    "\n",
    "degree = weighted_degrees  #we go back to that variable that we defined a few cells before\n",
    "degree"
   ]
  },
  {
   "cell_type": "code",
   "execution_count": 54,
   "id": "154f7a20",
   "metadata": {},
   "outputs": [],
   "source": [
    "node_sizes = [v * 5 for v in degree.values()] #we can play around the 5 value"
   ]
  },
  {
   "cell_type": "code",
   "execution_count": 55,
   "id": "7263c5d1",
   "metadata": {},
   "outputs": [
    {
     "data": {
      "image/png": "[encoded data removed]",
      "text/plain": [
       "<Figure size 640x480 with 1 Axes>"
      ]
     },
     "metadata": {},
     "output_type": "display_data"
    }
   ],
   "source": [
    "nx.draw(G, node_size=node_sizes, with_labels=True)\n",
    "\n",
    "plt.axis(\"off\")\n",
    "plt.show()"
   ]
  },
  {
   "cell_type": "markdown",
   "id": "4c84a584",
   "metadata": {},
   "source": [
    "Voilá! There we have our network. We can now proceed to do some cool visualizations. For example, we can use colours to bring attention to the Hub in the network (Hamlet), indicate the second and their weighted degree nodes (Horatio and Pollonius), and change the colour of the other nodes in the network."
   ]
  },
  {
   "cell_type": "code",
   "execution_count": 56,
   "id": "bd1e3f91",
   "metadata": {},
   "outputs": [],
   "source": [
    "#Your code in here"
   ]
  },
  {
   "cell_type": "code",
   "execution_count": 57,
   "id": "b50847c5",
   "metadata": {},
   "outputs": [],
   "source": [
    "node_colors = [\"red\" if n == \"Hamlet\" else \"blue\" if n == \"Horatio\" else \"yellow\" if n == \"Polonius\"\n",
    "               else \"green\" for n in G.nodes()]"
   ]
  },
  {
   "cell_type": "code",
   "execution_count": 58,
   "id": "e31cf99a",
   "metadata": {},
   "outputs": [
    {
     "data": {
      "image/png": "[encoded data removed]",
      "text/plain": [
       "<Figure size 640x480 with 1 Axes>"
      ]
     },
     "metadata": {},
     "output_type": "display_data"
    }
   ],
   "source": [
    "nx.draw(G, node_size = node_sizes, with_labels = True, node_color = node_colors)\n",
    "\n",
    "plt.axis(\"off\")\n",
    "plt.show()"
   ]
  },
  {
   "cell_type": "markdown",
   "id": "46124f4c",
   "metadata": {},
   "source": [
    "# And now you are a total expert on Networks ;)"
   ]
  }
 ],
 "metadata": {
  "kernelspec": {
   "display_name": "Python 3 (ipykernel)",
   "language": "python",
   "name": "python3"
  },
  "language_info": {
   "codemirror_mode": {
    "name": "ipython",
    "version": 3
   },
   "file_extension": ".py",
   "mimetype": "text/x-python",
   "name": "python",
   "nbconvert_exporter": "python",
   "pygments_lexer": "ipython3",
   "version": "3.11.7"
  }
 },
 "nbformat": 4,
 "nbformat_minor": 5
}
