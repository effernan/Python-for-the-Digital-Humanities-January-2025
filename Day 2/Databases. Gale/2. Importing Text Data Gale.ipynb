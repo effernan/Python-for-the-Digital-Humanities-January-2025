{
 "cells": [
  {
   "cell_type": "markdown",
   "id": "7785fdc4",
   "metadata": {},
   "source": [
    "Now that we have our dataframe with the Metadata, let's find a way to use the text files that we can download from the Gale. First, let's import them into our computer."
   ]
  },
  {
   "cell_type": "markdown",
   "id": "d9c2f14d",
   "metadata": {},
   "source": [
    "# 1. We import the libraries"
   ]
  },
  {
   "cell_type": "code",
   "execution_count": null,
   "id": "1037a9c2",
   "metadata": {},
   "outputs": [],
   "source": [
    "import pandas as pd\n",
    "import os"
   ]
  },
  {
   "cell_type": "markdown",
   "id": "99993560",
   "metadata": {},
   "source": [
    "# 2. We set a Path to get the files"
   ]
  },
  {
   "cell_type": "markdown",
   "id": "3c6164f8",
   "metadata": {},
   "source": [
    "To be able to access the files, we need to first find where they are located in our computer. So, we need to set a path."
   ]
  },
  {
   "cell_type": "code",
   "execution_count": null,
   "id": "104c81a1",
   "metadata": {},
   "outputs": [],
   "source": [
    "pwd"
   ]
  },
  {
   "cell_type": "code",
   "execution_count": null,
   "id": "d6b267cd",
   "metadata": {},
   "outputs": [],
   "source": [
    "ls"
   ]
  },
  {
   "cell_type": "code",
   "execution_count": null,
   "id": "8729f1cd",
   "metadata": {},
   "outputs": [],
   "source": [
    "directory_path = \"yourpath\""
   ]
  },
  {
   "cell_type": "code",
   "execution_count": null,
   "id": "b8dd9081",
   "metadata": {},
   "outputs": [],
   "source": [
    "directory_path"
   ]
  },
  {
   "cell_type": "markdown",
   "id": "83e2d234",
   "metadata": {},
   "source": [
    "# 3. We create the dataframe"
   ]
  },
  {
   "cell_type": "markdown",
   "id": "d56a5c8c",
   "metadata": {},
   "source": [
    "Now that we have the files, we need to import them into our laptop and create a datafarame with titles in one column and the text of the article in another column."
   ]
  },
  {
   "cell_type": "code",
   "execution_count": null,
   "id": "c551d5ad",
   "metadata": {},
   "outputs": [],
   "source": [
    "titles = []\n",
    "contents = []"
   ]
  },
  {
   "cell_type": "code",
   "execution_count": null,
   "id": "08659b8f",
   "metadata": {},
   "outputs": [],
   "source": [
    "for filename in os.listdir(directory_path):\n",
    "    if filename.endswith('.txt'):  # Ensure you're only processing text files\n",
    "        with open(os.path.join(directory_path, filename), 'r') as file:\n",
    "            titles.append(filename)  # Store the filename as title\n",
    "            contents.append(file.read())  # Read and store the content"
   ]
  },
  {
   "cell_type": "code",
   "execution_count": null,
   "id": "f8738bc6",
   "metadata": {},
   "outputs": [],
   "source": [
    "titles"
   ]
  },
  {
   "cell_type": "code",
   "execution_count": null,
   "id": "ebf78d71",
   "metadata": {},
   "outputs": [],
   "source": [
    "len(titles)"
   ]
  },
  {
   "cell_type": "code",
   "execution_count": null,
   "id": "c6dfe6c2",
   "metadata": {},
   "outputs": [],
   "source": [
    "contents"
   ]
  },
  {
   "cell_type": "code",
   "execution_count": null,
   "id": "e748c602",
   "metadata": {},
   "outputs": [],
   "source": [
    "type(contents[0])"
   ]
  },
  {
   "cell_type": "code",
   "execution_count": null,
   "id": "6ba1cdea",
   "metadata": {},
   "outputs": [],
   "source": [
    "len(contents)"
   ]
  },
  {
   "cell_type": "code",
   "execution_count": null,
   "id": "f2156c71",
   "metadata": {},
   "outputs": [],
   "source": [
    "df = pd.DataFrame({\n",
    "    'Title': titles,\n",
    "    'Content': contents\n",
    "})"
   ]
  },
  {
   "cell_type": "code",
   "execution_count": null,
   "id": "14c75c3a",
   "metadata": {},
   "outputs": [],
   "source": [
    "df"
   ]
  },
  {
   "cell_type": "markdown",
   "id": "d4ca239f",
   "metadata": {},
   "source": [
    "# 4. We export the dataframe"
   ]
  },
  {
   "cell_type": "markdown",
   "id": "4bb466bb",
   "metadata": {},
   "source": [
    "Success! We have our dataframe and we are ready to export it to a CSV file to start the process of cleaning and pre-processing."
   ]
  },
  {
   "cell_type": "code",
   "execution_count": null,
   "id": "f2870e6e",
   "metadata": {},
   "outputs": [],
   "source": [
    "df.to_csv('raw_data.csv', index = False)"
   ]
  }
 ],
 "metadata": {
  "kernelspec": {
   "display_name": "Python 3 (ipykernel)",
   "language": "python",
   "name": "python3"
  },
  "language_info": {
   "codemirror_mode": {
    "name": "ipython",
    "version": 3
   },
   "file_extension": ".py",
   "mimetype": "text/x-python",
   "name": "python",
   "nbconvert_exporter": "python",
   "pygments_lexer": "ipython3",
   "version": "3.11.7"
  }
 },
 "nbformat": 4,
 "nbformat_minor": 5
}
