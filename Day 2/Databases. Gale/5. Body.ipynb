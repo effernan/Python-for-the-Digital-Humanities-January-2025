{
 "cells": [
  {
   "cell_type": "markdown",
   "id": "4ad3677e",
   "metadata": {},
   "source": [
    "Now that we have our final dataframe, we still need to do some cleaning and preprocessing of our articles text. Let's do that!"
   ]
  },
  {
   "cell_type": "markdown",
   "id": "e514e057",
   "metadata": {},
   "source": [
    "# 1. We import the libraries"
   ]
  },
  {
   "cell_type": "code",
   "execution_count": null,
   "id": "f9fcdd67",
   "metadata": {},
   "outputs": [],
   "source": [
    "import pandas as pd\n",
    "import re"
   ]
  },
  {
   "cell_type": "markdown",
   "id": "01c902c7",
   "metadata": {},
   "source": [
    "# 2. We get the data"
   ]
  },
  {
   "cell_type": "code",
   "execution_count": null,
   "id": "1825fe16",
   "metadata": {},
   "outputs": [],
   "source": [
    "data = pd.read_csv(\"final_data.csv\", index_col = 0)"
   ]
  },
  {
   "cell_type": "code",
   "execution_count": null,
   "id": "f71b5315",
   "metadata": {},
   "outputs": [],
   "source": [
    "data"
   ]
  },
  {
   "cell_type": "markdown",
   "id": "2d758ad6",
   "metadata": {},
   "source": [
    "# 3. We select the text"
   ]
  },
  {
   "cell_type": "code",
   "execution_count": null,
   "id": "5dc2a177",
   "metadata": {},
   "outputs": [],
   "source": [
    "body = data[\"Article\"].to_list()"
   ]
  },
  {
   "cell_type": "code",
   "execution_count": null,
   "id": "11c90b93",
   "metadata": {},
   "outputs": [],
   "source": [
    "len(body)"
   ]
  },
  {
   "cell_type": "code",
   "execution_count": null,
   "id": "276be5fa",
   "metadata": {},
   "outputs": [],
   "source": [
    "body[0]"
   ]
  },
  {
   "cell_type": "code",
   "execution_count": null,
   "id": "554a7651",
   "metadata": {},
   "outputs": [],
   "source": [
    "type(body[0])"
   ]
  },
  {
   "cell_type": "markdown",
   "id": "c8c8d68e",
   "metadata": {},
   "source": [
    "Checking if there are some float numbers (nan) that stand for missing data"
   ]
  },
  {
   "cell_type": "code",
   "execution_count": null,
   "id": "79dbcc48",
   "metadata": {},
   "outputs": [],
   "source": [
    "for i in body:\n",
    "    if type(i) == float:\n",
    "        print(type(i))"
   ]
  },
  {
   "cell_type": "code",
   "execution_count": null,
   "id": "01013dec",
   "metadata": {},
   "outputs": [],
   "source": [
    "for index, value in enumerate(body):\n",
    "    if isinstance(value, float):\n",
    "        print(f\"Index: {index}, Value Type: {type(value)}\")"
   ]
  },
  {
   "cell_type": "code",
   "execution_count": null,
   "id": "a51b2128",
   "metadata": {},
   "outputs": [],
   "source": [
    "body[228]"
   ]
  },
  {
   "cell_type": "code",
   "execution_count": null,
   "id": "1e2c6c28",
   "metadata": {},
   "outputs": [],
   "source": [
    "data.iloc[228:229]"
   ]
  },
  {
   "cell_type": "markdown",
   "id": "d2f09179",
   "metadata": {},
   "source": [
    "This is happening because we selected more metadata than proper articles (due to the 5000 download limit restrictions for full articles). So, there are some missing articles in there. Let's get rid of them!"
   ]
  },
  {
   "cell_type": "code",
   "execution_count": null,
   "id": "705b73a0",
   "metadata": {},
   "outputs": [],
   "source": [
    "data_clean = data.dropna(subset = [\"Article\"])"
   ]
  },
  {
   "cell_type": "code",
   "execution_count": null,
   "id": "6c2a4021",
   "metadata": {},
   "outputs": [],
   "source": [
    "data_clean"
   ]
  },
  {
   "cell_type": "code",
   "execution_count": null,
   "id": "db408ace",
   "metadata": {},
   "outputs": [],
   "source": [
    "len(data_clean)"
   ]
  },
  {
   "cell_type": "markdown",
   "id": "64ca59c1",
   "metadata": {},
   "source": [
    "We have a clean dataframe! Let's go back to the body part"
   ]
  },
  {
   "cell_type": "code",
   "execution_count": null,
   "id": "7765feec",
   "metadata": {},
   "outputs": [],
   "source": [
    "body = data_clean[\"Article\"].to_list()"
   ]
  },
  {
   "cell_type": "code",
   "execution_count": null,
   "id": "c5d29421",
   "metadata": {},
   "outputs": [],
   "source": [
    "body[0]"
   ]
  },
  {
   "cell_type": "markdown",
   "id": "370716f1",
   "metadata": {},
   "source": [
    "# 4. We clean and pre-process"
   ]
  },
  {
   "cell_type": "markdown",
   "id": "4e37e9a1",
   "metadata": {},
   "source": [
    "Time to do some cleaning"
   ]
  },
  {
   "cell_type": "code",
   "execution_count": null,
   "id": "cdb78f7c",
   "metadata": {},
   "outputs": [],
   "source": [
    "def clean_text(text):\n",
    "    clean_text = [i.replace(\"\\n\", \"\") for i in text]\n",
    "    final_text = [i.replace(\"\\\\\", \"\") for i in clean_text]\n",
    "    really_final_text = [i.replace(\"\\\\'\", \"\") for i in final_text]\n",
    "    return really_final_text"
   ]
  },
  {
   "cell_type": "code",
   "execution_count": null,
   "id": "3de7e56f",
   "metadata": {},
   "outputs": [],
   "source": [
    "final_text = clean_text(body)"
   ]
  },
  {
   "cell_type": "code",
   "execution_count": null,
   "id": "f669ef64",
   "metadata": {},
   "outputs": [],
   "source": [
    "final_text[0]"
   ]
  },
  {
   "cell_type": "markdown",
   "id": "cd81877c",
   "metadata": {},
   "source": [
    "We can see that there is a rebel \\' character that has survived our cleaning function. Let's get rid of that!"
   ]
  },
  {
   "cell_type": "code",
   "execution_count": null,
   "id": "f781b3e5",
   "metadata": {},
   "outputs": [],
   "source": [
    "def clean_text_final(text):\n",
    "    final_clean_text = [i.replace(\"\\n\", \"\").replace(\"\\\\\", \"\").replace(\"'\", \"\") for i in text]\n",
    "    return final_clean_text"
   ]
  },
  {
   "cell_type": "code",
   "execution_count": null,
   "id": "25205511",
   "metadata": {},
   "outputs": [],
   "source": [
    "really_final_text = clean_text_final(final_text)"
   ]
  },
  {
   "cell_type": "code",
   "execution_count": null,
   "id": "2a0eabe4",
   "metadata": {},
   "outputs": [],
   "source": [
    "really_final_text[0]"
   ]
  },
  {
   "cell_type": "markdown",
   "id": "20ec09e8",
   "metadata": {},
   "source": [
    "Now let's change our column in the csv dataframe"
   ]
  },
  {
   "cell_type": "code",
   "execution_count": null,
   "id": "9bf04d06",
   "metadata": {},
   "outputs": [],
   "source": [
    "data_clean.loc[:, \"Article\"] = really_final_text"
   ]
  },
  {
   "cell_type": "code",
   "execution_count": null,
   "id": "10792e8f",
   "metadata": {},
   "outputs": [],
   "source": [
    "data_clean"
   ]
  },
  {
   "cell_type": "code",
   "execution_count": null,
   "id": "10e00f95",
   "metadata": {},
   "outputs": [],
   "source": [
    "data_clean[\"Article\"][1]"
   ]
  },
  {
   "cell_type": "markdown",
   "id": "af6b3b5a",
   "metadata": {},
   "source": [
    "# 5. Saving our data"
   ]
  },
  {
   "cell_type": "markdown",
   "id": "5466f947",
   "metadata": {},
   "source": [
    "And now we are reading to save our super clean dataframe for future Text Data Mining analysis!"
   ]
  },
  {
   "cell_type": "code",
   "execution_count": null,
   "id": "1604fc47",
   "metadata": {},
   "outputs": [],
   "source": [
    "data_clean.to_csv(\"final_TDM_dataframe.csv\")"
   ]
  }
 ],
 "metadata": {
  "kernelspec": {
   "display_name": "Python 3 (ipykernel)",
   "language": "python",
   "name": "python3"
  },
  "language_info": {
   "codemirror_mode": {
    "name": "ipython",
    "version": 3
   },
   "file_extension": ".py",
   "mimetype": "text/x-python",
   "name": "python",
   "nbconvert_exporter": "python",
   "pygments_lexer": "ipython3",
   "version": "3.11.7"
  }
 },
 "nbformat": 4,
 "nbformat_minor": 5
}
