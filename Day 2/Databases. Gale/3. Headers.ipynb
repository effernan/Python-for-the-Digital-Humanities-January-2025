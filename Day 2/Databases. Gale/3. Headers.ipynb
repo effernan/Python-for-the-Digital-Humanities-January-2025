{
 "cells": [
  {
   "cell_type": "markdown",
   "id": "b81f3738",
   "metadata": {},
   "source": [
    "Now let's begin by organizing (AKA cleaning and pre-processing) the titles (headers) of our articles."
   ]
  },
  {
   "cell_type": "markdown",
   "id": "4bf4e0ba",
   "metadata": {},
   "source": [
    "# 1. We import the libraries"
   ]
  },
  {
   "cell_type": "code",
   "execution_count": null,
   "id": "463b7a6f",
   "metadata": {},
   "outputs": [],
   "source": [
    "import pandas as pd\n",
    "import re"
   ]
  },
  {
   "cell_type": "markdown",
   "id": "4caa4310",
   "metadata": {},
   "source": [
    "# 2. We get the data"
   ]
  },
  {
   "cell_type": "code",
   "execution_count": null,
   "id": "00145121",
   "metadata": {},
   "outputs": [],
   "source": [
    "data = pd.read_csv(\"raw_data.csv\")"
   ]
  },
  {
   "cell_type": "code",
   "execution_count": null,
   "id": "d79df6f2",
   "metadata": {},
   "outputs": [],
   "source": [
    "data"
   ]
  },
  {
   "cell_type": "markdown",
   "id": "1919866a",
   "metadata": {},
   "source": [
    "# 3. We split the title to get the CS indentifier"
   ]
  },
  {
   "cell_type": "markdown",
   "id": "169bb47e",
   "metadata": {},
   "source": [
    "The way in which we are going to be able to match data (titles and articles) with metadata is by doing a match between the CS identifier in both dataframes. So: we need to extract that from the titles of the articles in here."
   ]
  },
  {
   "cell_type": "code",
   "execution_count": null,
   "id": "860c02f6",
   "metadata": {},
   "outputs": [],
   "source": [
    "title = data[\"Title\"].to_list()"
   ]
  },
  {
   "cell_type": "code",
   "execution_count": null,
   "id": "e634ab9d",
   "metadata": {},
   "outputs": [],
   "source": [
    "title"
   ]
  },
  {
   "cell_type": "markdown",
   "id": "71ea8540",
   "metadata": {},
   "source": [
    "First we split things by \"CS\" (an alternative way would be to do this using regex but it's much more complicated)"
   ]
  },
  {
   "cell_type": "code",
   "execution_count": null,
   "id": "bddb7221",
   "metadata": {},
   "outputs": [],
   "source": [
    "result = [s.split('CS') for s in title]"
   ]
  },
  {
   "cell_type": "code",
   "execution_count": null,
   "id": "00454aa0",
   "metadata": {},
   "outputs": [],
   "source": [
    "result"
   ]
  },
  {
   "cell_type": "markdown",
   "id": "49dc829c",
   "metadata": {},
   "source": [
    "And now we need to add CS again to make sure that we can later on concatenate it with the Metadata."
   ]
  },
  {
   "cell_type": "code",
   "execution_count": null,
   "id": "c4f1ba6b",
   "metadata": {},
   "outputs": [],
   "source": [
    "modified_data = [[inner[0], 'CS' + inner[1]] for inner in result]"
   ]
  },
  {
   "cell_type": "code",
   "execution_count": null,
   "id": "ab7a70b9",
   "metadata": {},
   "outputs": [],
   "source": [
    "modified_data"
   ]
  },
  {
   "cell_type": "markdown",
   "id": "2287d211",
   "metadata": {},
   "source": [
    "And now we need to get rid of the final .txt to be able to later on match things with the metadata dataframe"
   ]
  },
  {
   "cell_type": "code",
   "execution_count": null,
   "id": "255973a2",
   "metadata": {},
   "outputs": [],
   "source": [
    "cleaned_data = [[item[0], item[1].replace('.txt', '')] for item in modified_data]"
   ]
  },
  {
   "cell_type": "code",
   "execution_count": null,
   "id": "95689de0",
   "metadata": {},
   "outputs": [],
   "source": [
    "cleaned_data"
   ]
  },
  {
   "cell_type": "code",
   "execution_count": null,
   "id": "5f9ab6f9",
   "metadata": {},
   "outputs": [],
   "source": [
    "len(cleaned_data)"
   ]
  },
  {
   "cell_type": "markdown",
   "id": "61b29223",
   "metadata": {},
   "source": [
    "# 4. And now we create a new CSV data frame with a new column: Article ID"
   ]
  },
  {
   "cell_type": "markdown",
   "id": "e54bce73",
   "metadata": {},
   "source": [
    "First we break that list into two different ones"
   ]
  },
  {
   "cell_type": "code",
   "execution_count": null,
   "id": "7f9b7545",
   "metadata": {},
   "outputs": [],
   "source": [
    "title = [i[0] for i in cleaned_data]"
   ]
  },
  {
   "cell_type": "code",
   "execution_count": null,
   "id": "7d78dd58",
   "metadata": {},
   "outputs": [],
   "source": [
    "len(title)"
   ]
  },
  {
   "cell_type": "code",
   "execution_count": null,
   "id": "9df3e36c",
   "metadata": {},
   "outputs": [],
   "source": [
    "id_articles = [i[1] for i in cleaned_data]"
   ]
  },
  {
   "cell_type": "code",
   "execution_count": null,
   "id": "0df1f6e9",
   "metadata": {},
   "outputs": [],
   "source": [
    "len(id_articles)"
   ]
  },
  {
   "cell_type": "markdown",
   "id": "0c4d39ef",
   "metadata": {},
   "source": [
    "And now we create the new csv"
   ]
  },
  {
   "cell_type": "code",
   "execution_count": null,
   "id": "6da219a0",
   "metadata": {},
   "outputs": [],
   "source": [
    "final_data = pd.DataFrame(title, columns = [\"Title\"])"
   ]
  },
  {
   "cell_type": "code",
   "execution_count": null,
   "id": "39bab073",
   "metadata": {},
   "outputs": [],
   "source": [
    "final_data"
   ]
  },
  {
   "cell_type": "code",
   "execution_count": null,
   "id": "56bda7b2",
   "metadata": {},
   "outputs": [],
   "source": [
    "final_data[\"ID\"] = id_articles"
   ]
  },
  {
   "cell_type": "code",
   "execution_count": null,
   "id": "4f60f03c",
   "metadata": {},
   "outputs": [],
   "source": [
    "final_data"
   ]
  },
  {
   "cell_type": "markdown",
   "id": "c4bc1900",
   "metadata": {},
   "source": [
    "And now we link that to the original dataframe with the proper text"
   ]
  },
  {
   "cell_type": "code",
   "execution_count": null,
   "id": "85cbc7c3",
   "metadata": {},
   "outputs": [],
   "source": [
    "text = data[\"Content\"].to_list()"
   ]
  },
  {
   "cell_type": "code",
   "execution_count": null,
   "id": "25f3ffd7",
   "metadata": {},
   "outputs": [],
   "source": [
    "text"
   ]
  },
  {
   "cell_type": "code",
   "execution_count": null,
   "id": "1b28cd7d",
   "metadata": {},
   "outputs": [],
   "source": [
    "final_data[\"Article\"] = text"
   ]
  },
  {
   "cell_type": "code",
   "execution_count": null,
   "id": "97583ac1",
   "metadata": {},
   "outputs": [],
   "source": [
    "final_data"
   ]
  },
  {
   "cell_type": "markdown",
   "id": "57637fea",
   "metadata": {},
   "source": [
    "So now we have our clean dataset!"
   ]
  },
  {
   "cell_type": "markdown",
   "id": "fdf5d95e",
   "metadata": {},
   "source": [
    "# 5. We export everything into a csv file"
   ]
  },
  {
   "cell_type": "code",
   "execution_count": null,
   "id": "2da93abd",
   "metadata": {},
   "outputs": [],
   "source": [
    "final_data.to_csv(\"headers.csv\")"
   ]
  }
 ],
 "metadata": {
  "kernelspec": {
   "display_name": "Python 3 (ipykernel)",
   "language": "python",
   "name": "python3"
  },
  "language_info": {
   "codemirror_mode": {
    "name": "ipython",
    "version": 3
   },
   "file_extension": ".py",
   "mimetype": "text/x-python",
   "name": "python",
   "nbconvert_exporter": "python",
   "pygments_lexer": "ipython3",
   "version": "3.11.7"
  }
 },
 "nbformat": 4,
 "nbformat_minor": 5
}
