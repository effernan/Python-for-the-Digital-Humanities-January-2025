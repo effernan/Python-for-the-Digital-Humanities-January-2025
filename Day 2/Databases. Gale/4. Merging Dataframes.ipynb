{
 "cells": [
  {
   "cell_type": "markdown",
   "id": "5f637dab",
   "metadata": {},
   "source": [
    "As we will see in the next Jupyter Notebook (5. Body) to be able to clean and pre-process the body we need to drop some missing rows of our dataframe that have some missing data. To simplify that process, let's now merge both dataframes before we proceed to cleaning the body of the articles."
   ]
  },
  {
   "cell_type": "markdown",
   "id": "6721fc3d",
   "metadata": {},
   "source": [
    "# 1. We import our libraries"
   ]
  },
  {
   "cell_type": "code",
   "execution_count": null,
   "id": "acbe253c",
   "metadata": {},
   "outputs": [],
   "source": [
    "import pandas as pd"
   ]
  },
  {
   "cell_type": "markdown",
   "id": "abe4f7d1",
   "metadata": {},
   "source": [
    "# 2. We get our data"
   ]
  },
  {
   "cell_type": "markdown",
   "id": "1f76824d",
   "metadata": {},
   "source": [
    "First we get the metadata "
   ]
  },
  {
   "cell_type": "code",
   "execution_count": null,
   "id": "264a4348",
   "metadata": {},
   "outputs": [],
   "source": [
    "metadata = pd.read_csv(\"final_metadata.csv\", index_col = 0)"
   ]
  },
  {
   "cell_type": "code",
   "execution_count": null,
   "id": "f1d5e030",
   "metadata": {},
   "outputs": [],
   "source": [
    "metadata"
   ]
  },
  {
   "cell_type": "markdown",
   "id": "61914486",
   "metadata": {},
   "source": [
    "Now let's change the name of the column \"Gale Document Number\" to ID to be able to merge dataframes in just a second"
   ]
  },
  {
   "cell_type": "code",
   "execution_count": null,
   "id": "5a86fc6d",
   "metadata": {},
   "outputs": [],
   "source": [
    "metadata.rename(columns = {\"Gale Document Number\" :\"ID\"}, inplace = True)"
   ]
  },
  {
   "cell_type": "code",
   "execution_count": null,
   "id": "e994db8e",
   "metadata": {},
   "outputs": [],
   "source": [
    "metadata"
   ]
  },
  {
   "cell_type": "markdown",
   "id": "2823c592",
   "metadata": {},
   "source": [
    "And now we get the titles and the unclean body"
   ]
  },
  {
   "cell_type": "code",
   "execution_count": null,
   "id": "65d903dd",
   "metadata": {},
   "outputs": [],
   "source": [
    "articles = pd.read_csv(\"headers.csv\", index_col = 0)"
   ]
  },
  {
   "cell_type": "code",
   "execution_count": null,
   "id": "64246928",
   "metadata": {},
   "outputs": [],
   "source": [
    "articles"
   ]
  },
  {
   "cell_type": "markdown",
   "id": "a518a90c",
   "metadata": {},
   "source": [
    "# 3. Let's merge dataframes"
   ]
  },
  {
   "cell_type": "markdown",
   "id": "1211ead6",
   "metadata": {},
   "source": [
    "Now let's merge both dataframes using the ID column on both of them"
   ]
  },
  {
   "cell_type": "code",
   "execution_count": null,
   "id": "baf36782",
   "metadata": {},
   "outputs": [],
   "source": [
    "merged_df = pd.merge(metadata, articles, on = 'ID', how = 'outer')"
   ]
  },
  {
   "cell_type": "code",
   "execution_count": null,
   "id": "8de043f7",
   "metadata": {},
   "outputs": [],
   "source": [
    "merged_df"
   ]
  },
  {
   "cell_type": "markdown",
   "id": "05a1ac6b",
   "metadata": {},
   "source": [
    "# 4. Cleaning new Dataframe"
   ]
  },
  {
   "cell_type": "markdown",
   "id": "038d03d9",
   "metadata": {},
   "source": [
    "If we want to make sure that the merge was done correctly, we can check the \"Document Title\" column from the metadata column with the \"Title Column\" from the articles dataframe. That being said: let's clean this dataframe a little bit and get rid of the columns Publisher, Subject, and Language. Let's keep the Title one (and we can drop it later on if that may be useful for us)."
   ]
  },
  {
   "cell_type": "code",
   "execution_count": null,
   "id": "8aa59e16",
   "metadata": {},
   "outputs": [],
   "source": [
    "final_data = merged_df.drop(['Publisher', 'Subject', 'Language'], axis=1)"
   ]
  },
  {
   "cell_type": "code",
   "execution_count": null,
   "id": "d482a4cb",
   "metadata": {},
   "outputs": [],
   "source": [
    "final_data"
   ]
  },
  {
   "cell_type": "markdown",
   "id": "5fed6411",
   "metadata": {},
   "source": [
    "# 5. Saving our data"
   ]
  },
  {
   "cell_type": "markdown",
   "id": "2ca6bbfc",
   "metadata": {},
   "source": [
    "And now let's save our data into a csv dataframe"
   ]
  },
  {
   "cell_type": "code",
   "execution_count": null,
   "id": "d66e3199",
   "metadata": {},
   "outputs": [],
   "source": [
    "final_data.to_csv(\"final_data.csv\")"
   ]
  }
 ],
 "metadata": {
  "kernelspec": {
   "display_name": "Python 3 (ipykernel)",
   "language": "python",
   "name": "python3"
  },
  "language_info": {
   "codemirror_mode": {
    "name": "ipython",
    "version": 3
   },
   "file_extension": ".py",
   "mimetype": "text/x-python",
   "name": "python",
   "nbconvert_exporter": "python",
   "pygments_lexer": "ipython3",
   "version": "3.11.7"
  }
 },
 "nbformat": 4,
 "nbformat_minor": 5
}
