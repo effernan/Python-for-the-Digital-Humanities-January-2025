{
 "cells": [
  {
   "cell_type": "markdown",
   "id": "c09a836a",
   "metadata": {},
   "source": [
    "Let's begin transforming the Gale Metadata Dataframe into something that we can use to later on merge with our text data."
   ]
  },
  {
   "cell_type": "markdown",
   "id": "9830dc87",
   "metadata": {},
   "source": [
    "# 1. We impor the libraries"
   ]
  },
  {
   "cell_type": "code",
   "execution_count": null,
   "id": "d6495d6c",
   "metadata": {},
   "outputs": [],
   "source": [
    "import pandas as pd\n",
    "import csv"
   ]
  },
  {
   "cell_type": "markdown",
   "id": "a1dce3bf",
   "metadata": {},
   "source": [
    "# 2. We import our data"
   ]
  },
  {
   "cell_type": "code",
   "execution_count": null,
   "id": "6783a89f",
   "metadata": {},
   "outputs": [],
   "source": [
    "metadata = pd.read_csv(\"Times 1980 January February_metadata.csv\", index_col = False)"
   ]
  },
  {
   "cell_type": "code",
   "execution_count": null,
   "id": "592a1858",
   "metadata": {},
   "outputs": [],
   "source": [
    "metadata"
   ]
  },
  {
   "cell_type": "markdown",
   "id": "4606b535",
   "metadata": {},
   "source": [
    "# 3. We modify the metadata column that we need to do the matching later on"
   ]
  },
  {
   "cell_type": "code",
   "execution_count": null,
   "id": "9ba481cc",
   "metadata": {},
   "outputs": [],
   "source": [
    "text = metadata[\"Gale Document Number\"].to_list()"
   ]
  },
  {
   "cell_type": "code",
   "execution_count": null,
   "id": "e9cd21c1",
   "metadata": {},
   "outputs": [],
   "source": [
    "text"
   ]
  },
  {
   "cell_type": "markdown",
   "id": "a7a624a5",
   "metadata": {},
   "source": [
    "To be able to do a matching between the text dataframe and this column, we need to remove \"GALE\""
   ]
  },
  {
   "cell_type": "code",
   "execution_count": null,
   "id": "09a70baf",
   "metadata": {},
   "outputs": [],
   "source": [
    "new_text = []\n",
    "\n",
    "for i in text:\n",
    "    new_text.append(i.replace('GALE|', ''))\n",
    "    "
   ]
  },
  {
   "cell_type": "code",
   "execution_count": null,
   "id": "168669bf",
   "metadata": {},
   "outputs": [],
   "source": [
    "new_text"
   ]
  },
  {
   "cell_type": "markdown",
   "id": "1020be2c",
   "metadata": {},
   "source": [
    "Now let's substitute the original column with that"
   ]
  },
  {
   "cell_type": "code",
   "execution_count": null,
   "id": "3fe980e6",
   "metadata": {},
   "outputs": [],
   "source": [
    "metadata[\"Gale Document Number\"] = new_text"
   ]
  },
  {
   "cell_type": "code",
   "execution_count": null,
   "id": "8f962d3f",
   "metadata": {},
   "outputs": [],
   "source": [
    "metadata"
   ]
  },
  {
   "cell_type": "markdown",
   "id": "00050214",
   "metadata": {},
   "source": [
    "# 4. We export that to a CSV dataframe that we can use later on"
   ]
  },
  {
   "cell_type": "code",
   "execution_count": null,
   "id": "4506a76e",
   "metadata": {},
   "outputs": [],
   "source": [
    "metadata.to_csv(\"final_metadata.csv\")"
   ]
  }
 ],
 "metadata": {
  "kernelspec": {
   "display_name": "Python 3 (ipykernel)",
   "language": "python",
   "name": "python3"
  },
  "language_info": {
   "codemirror_mode": {
    "name": "ipython",
    "version": 3
   },
   "file_extension": ".py",
   "mimetype": "text/x-python",
   "name": "python",
   "nbconvert_exporter": "python",
   "pygments_lexer": "ipython3",
   "version": "3.11.7"
  }
 },
 "nbformat": 4,
 "nbformat_minor": 5
}
