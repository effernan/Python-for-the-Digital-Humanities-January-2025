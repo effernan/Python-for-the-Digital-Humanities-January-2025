{
 "cells": [
  {
   "cell_type": "markdown",
   "id": "09862c1e",
   "metadata": {},
   "source": [
    "**References**: the code in this notebook comes from this script (written by my baby-programmer self 5 years ago: https://github.com/effernan/New-York-Times-Archive-API-code), and this more senior script: https://github.com/rochelleterman/scrape-interwebz/blob/master/1_APIs/3_api_workbook.ipynb "
   ]
  },
  {
   "cell_type": "markdown",
   "id": "4cd661bf",
   "metadata": {},
   "source": [
    "# The Guardian"
   ]
  },
  {
   "cell_type": "markdown",
   "id": "1202e62d",
   "metadata": {},
   "source": [
    "In this exercise we will be using the API of **The Guardian** (that does provide the full text of articles): https://open-platform.theguardian.com/access"
   ]
  },
  {
   "cell_type": "markdown",
   "id": "e6f1db51",
   "metadata": {},
   "source": [
    "First, you need a key, that you can get in here: https://bonobo.capi.gutools.co.uk/register/developer "
   ]
  },
  {
   "cell_type": "markdown",
   "id": "5effda4f",
   "metadata": {},
   "source": [
    "Let's explore **The Guardian** documentation website: https://open-platform.theguardian.com/documentation/\n",
    "\n",
    "There are **5 endpoints**: Content, Tags, Sections, Editions, Single item. The one that we need is **content**: https://open-platform.theguardian.com/documentation/search \n",
    "\n",
    "So, in there, we have all the different options that the API is providing. The base_url is: \"https://content.guardianapis.com/search?\"\n",
    "\n",
    "Everything else is very similar to The New York Times, but in here, there is one option that we can include in the parameters that will return the full text of the articles: \"\"show-fields\" : \"body\". How **super cool** is that?"
   ]
  },
  {
   "cell_type": "markdown",
   "id": "80d9c052",
   "metadata": {},
   "source": [
    "#### 1. Let's build the API request"
   ]
  },
  {
   "cell_type": "code",
   "execution_count": 1,
   "id": "6801c8a1",
   "metadata": {},
   "outputs": [],
   "source": [
    "import requests\n",
    "import json\n",
    "import time  # to pause after each API call \n",
    "from __future__ import division\n",
    "import math\n",
    "import csv\n",
    "import matplotlib.pyplot as plt\n",
    "import pandas as pd  # to see our CSV "
   ]
  },
  {
   "cell_type": "code",
   "execution_count": 2,
   "id": "77119f71",
   "metadata": {},
   "outputs": [],
   "source": [
    "# set key\n",
    "key= \"8ab705db-157a-4270-9fd1-a5499f3f1196\"\n",
    "\n",
    "# set base url\n",
    "base_url= \"https://content.guardianapis.com/search?\"\n",
    "\n",
    "# set response format\n",
    "response_format= \".json\""
   ]
  },
  {
   "cell_type": "code",
   "execution_count": 3,
   "id": "99b983d5",
   "metadata": {},
   "outputs": [],
   "source": [
    "search_params = {\"q\": \"David Beckham\",\n",
    "                 \"from-date\" : \"2001-01-01\", #we need to change the dates format\n",
    "                 \"to-date\" : \"2001-12-31\", \n",
    "                 \"show-fields\" : \"body\", #this is the full text of the article!\n",
    "                 \"id\" : \"id\",\n",
    "                 \"format\" : \"json\",\n",
    "                 \"api-key\": key}    "
   ]
  },
  {
   "cell_type": "code",
   "execution_count": 8,
   "id": "81a0ffd4",
   "metadata": {},
   "outputs": [],
   "source": [
    "# make request\n",
    "r = requests.get(base_url + response_format, params = search_params)"
   ]
  },
  {
   "cell_type": "code",
   "execution_count": 13,
   "id": "d1b1a191",
   "metadata": {},
   "outputs": [
    {
     "name": "stdout",
     "output_type": "stream",
     "text": [
      "https://content.guardianapis.com/search?.json&q=David+Beckham&from-date=2001-01-01&to-date=2001-12-31&show-fields=body&id=id&format=json&api-key=8ab705db-157a-4270-9fd1-a5499f3f1196\n"
     ]
    }
   ],
   "source": [
    "print(r.url)"
   ]
  },
  {
   "cell_type": "code",
   "execution_count": 14,
   "id": "4f4a365a",
   "metadata": {},
   "outputs": [
    {
     "name": "stdout",
     "output_type": "stream",
     "text": [
      "{\"response\":{\"status\":\"ok\",\"userTier\":\"developer\",\"total\":2859,\"startIndex\":1,\"pageSize\":10,\"currentPage\":1,\"pages\":286,\"orderBy\":\"relevance\",\"results\":[{\"id\":\"football/2001/oct/09/sport.seaningle\",\"type\":\"article\",\"sectionId\":\"football\",\"sectionName\":\"Football\",\"webPublicationDate\":\"2001-10-09T14:04:18Z\",\"webTitle\":\"David Beckham: how deep is your love?\",\"webUrl\":\"https://www.theguardian.com/football/2001/oct/09/sport.seaningle\",\"apiUrl\":\"https://content.guardianapis.com/football/2001/oct/09/sport.seaningle\",\"fields\":{\"body\":\"<p>Back in the 1970s, the Bee Gees asked the world: 'How deep is your love.' Twenty-five years later, Guardian Unlimited feels like asking our readers the same question about England captain David Beckham.</p> <p>So we will. How deep is your love, self-confessed \\\"Manchester United fan, Beckham admirer and Essex girl\\\" Mrs Mandy Seymore?</p> <p>\\\"Beckham's performance on Saturday was one that all Brits will be proud of,\\\" she gushes, and before we can speak to an\n"
     ]
    }
   ],
   "source": [
    "response_text= r.text\n",
    "print(response_text[:1000])  #looks good!"
   ]
  },
  {
   "cell_type": "code",
   "execution_count": 15,
   "id": "d975205c",
   "metadata": {},
   "outputs": [],
   "source": [
    "# Convert JSON response to a dictionary\n",
    "data = json.loads(response_text)"
   ]
  },
  {
   "cell_type": "code",
   "execution_count": 16,
   "id": "a5c2c885",
   "metadata": {},
   "outputs": [
    {
     "name": "stdout",
     "output_type": "stream",
     "text": [
      "dict_keys(['response'])\n"
     ]
    }
   ],
   "source": [
    "print(data.keys()) #we need to access the data that is stored in \"response\""
   ]
  },
  {
   "cell_type": "code",
   "execution_count": 17,
   "id": "1d0c0d4a",
   "metadata": {},
   "outputs": [
    {
     "data": {
      "text/plain": [
       "dict_keys(['status', 'userTier', 'total', 'startIndex', 'pageSize', 'currentPage', 'pages', 'orderBy', 'results'])"
      ]
     },
     "execution_count": 17,
     "metadata": {},
     "output_type": "execute_result"
    }
   ],
   "source": [
    "data['response'].keys()"
   ]
  },
  {
   "cell_type": "markdown",
   "id": "5acfd34c",
   "metadata": {},
   "source": [
    "Now the keys have changed! What we need to access is \"results\""
   ]
  },
  {
   "cell_type": "code",
   "execution_count": 18,
   "id": "f72ef993",
   "metadata": {},
   "outputs": [
    {
     "data": {
      "text/plain": [
       "list"
      ]
     },
     "execution_count": 18,
     "metadata": {},
     "output_type": "execute_result"
    }
   ],
   "source": [
    "type(data['response']['results'])"
   ]
  },
  {
   "cell_type": "code",
   "execution_count": 19,
   "id": "d07982fe",
   "metadata": {},
   "outputs": [],
   "source": [
    "docs = data['response']['results']"
   ]
  },
  {
   "cell_type": "code",
   "execution_count": 20,
   "id": "e231f61d",
   "metadata": {},
   "outputs": [
    {
     "data": {
      "text/plain": [
       "10"
      ]
     },
     "execution_count": 20,
     "metadata": {},
     "output_type": "execute_result"
    }
   ],
   "source": [
    "len(docs) #same problem as before: we need to lover over the request to get all the documents!"
   ]
  },
  {
   "cell_type": "code",
   "execution_count": 21,
   "id": "12ce7aae",
   "metadata": {},
   "outputs": [],
   "source": [
    "#docs[0] #and there is the body of our article!"
   ]
  },
  {
   "cell_type": "markdown",
   "id": "5104963f",
   "metadata": {},
   "source": [
    "Now let's build the proper call modifying our previous script."
   ]
  },
  {
   "cell_type": "code",
   "execution_count": 23,
   "id": "a70d0992",
   "metadata": {},
   "outputs": [
    {
     "name": "stdout",
     "output_type": "stream",
     "text": [
      "number of hits:  286\n",
      "collecting page 0\n",
      "collecting page 1\n",
      "collecting page 2\n",
      "collecting page 3\n",
      "collecting page 4\n",
      "collecting page 5\n",
      "collecting page 6\n",
      "collecting page 7\n",
      "collecting page 8\n",
      "collecting page 9\n",
      "collecting page 10\n",
      "collecting page 11\n",
      "collecting page 12\n",
      "collecting page 13\n",
      "collecting page 14\n",
      "collecting page 15\n",
      "collecting page 16\n",
      "collecting page 17\n",
      "collecting page 18\n",
      "collecting page 19\n",
      "collecting page 20\n",
      "collecting page 21\n",
      "collecting page 22\n",
      "collecting page 23\n",
      "collecting page 24\n",
      "collecting page 25\n",
      "collecting page 26\n",
      "collecting page 27\n",
      "collecting page 28\n",
      "collecting page 29\n",
      "collecting page 30\n",
      "collecting page 31\n",
      "collecting page 32\n",
      "collecting page 33\n",
      "collecting page 34\n",
      "collecting page 35\n",
      "collecting page 36\n",
      "collecting page 37\n",
      "collecting page 38\n",
      "collecting page 39\n",
      "collecting page 40\n",
      "collecting page 41\n",
      "collecting page 42\n",
      "collecting page 43\n",
      "collecting page 44\n",
      "collecting page 45\n",
      "collecting page 46\n",
      "collecting page 47\n",
      "collecting page 48\n",
      "collecting page 49\n",
      "collecting page 50\n",
      "collecting page 51\n",
      "collecting page 52\n",
      "collecting page 53\n",
      "collecting page 54\n",
      "collecting page 55\n",
      "collecting page 56\n",
      "collecting page 57\n",
      "collecting page 58\n",
      "collecting page 59\n",
      "collecting page 60\n",
      "collecting page 61\n",
      "collecting page 62\n",
      "collecting page 63\n",
      "collecting page 64\n",
      "collecting page 65\n",
      "collecting page 66\n",
      "collecting page 67\n",
      "collecting page 68\n",
      "collecting page 69\n",
      "collecting page 70\n",
      "collecting page 71\n",
      "collecting page 72\n",
      "collecting page 73\n",
      "collecting page 74\n",
      "collecting page 75\n",
      "collecting page 76\n",
      "collecting page 77\n",
      "collecting page 78\n",
      "collecting page 79\n",
      "collecting page 80\n",
      "collecting page 81\n",
      "collecting page 82\n",
      "collecting page 83\n",
      "collecting page 84\n",
      "collecting page 85\n",
      "collecting page 86\n",
      "collecting page 87\n",
      "collecting page 88\n",
      "collecting page 89\n",
      "collecting page 90\n",
      "collecting page 91\n",
      "collecting page 92\n",
      "collecting page 93\n",
      "collecting page 94\n",
      "collecting page 95\n",
      "collecting page 96\n",
      "collecting page 97\n",
      "collecting page 98\n",
      "collecting page 99\n",
      "collecting page 100\n",
      "collecting page 101\n",
      "collecting page 102\n",
      "collecting page 103\n",
      "collecting page 104\n",
      "collecting page 105\n",
      "collecting page 106\n",
      "collecting page 107\n",
      "collecting page 108\n",
      "collecting page 109\n",
      "collecting page 110\n",
      "collecting page 111\n",
      "collecting page 112\n",
      "collecting page 113\n",
      "collecting page 114\n",
      "collecting page 115\n",
      "collecting page 116\n",
      "collecting page 117\n",
      "collecting page 118\n",
      "collecting page 119\n",
      "collecting page 120\n",
      "collecting page 121\n",
      "collecting page 122\n",
      "collecting page 123\n",
      "collecting page 124\n",
      "collecting page 125\n",
      "collecting page 126\n",
      "collecting page 127\n",
      "collecting page 128\n",
      "collecting page 129\n",
      "collecting page 130\n",
      "collecting page 131\n",
      "collecting page 132\n",
      "collecting page 133\n",
      "collecting page 134\n",
      "collecting page 135\n",
      "collecting page 136\n",
      "collecting page 137\n",
      "collecting page 138\n",
      "collecting page 139\n",
      "collecting page 140\n",
      "collecting page 141\n",
      "collecting page 142\n",
      "collecting page 143\n",
      "collecting page 144\n",
      "collecting page 145\n",
      "collecting page 146\n",
      "collecting page 147\n",
      "collecting page 148\n",
      "collecting page 149\n",
      "collecting page 150\n",
      "collecting page 151\n",
      "collecting page 152\n",
      "collecting page 153\n",
      "collecting page 154\n",
      "collecting page 155\n",
      "collecting page 156\n",
      "collecting page 157\n",
      "collecting page 158\n",
      "collecting page 159\n",
      "collecting page 160\n",
      "collecting page 161\n",
      "collecting page 162\n",
      "collecting page 163\n",
      "collecting page 164\n",
      "collecting page 165\n",
      "collecting page 166\n",
      "collecting page 167\n",
      "collecting page 168\n",
      "collecting page 169\n",
      "collecting page 170\n",
      "collecting page 171\n",
      "collecting page 172\n",
      "collecting page 173\n",
      "collecting page 174\n",
      "collecting page 175\n",
      "collecting page 176\n",
      "collecting page 177\n",
      "collecting page 178\n",
      "collecting page 179\n",
      "collecting page 180\n",
      "collecting page 181\n",
      "collecting page 182\n",
      "collecting page 183\n",
      "collecting page 184\n",
      "collecting page 185\n",
      "collecting page 186\n",
      "collecting page 187\n",
      "collecting page 188\n",
      "collecting page 189\n",
      "collecting page 190\n",
      "collecting page 191\n",
      "collecting page 192\n",
      "collecting page 193\n",
      "collecting page 194\n",
      "collecting page 195\n",
      "collecting page 196\n",
      "collecting page 197\n",
      "collecting page 198\n",
      "collecting page 199\n",
      "collecting page 200\n",
      "collecting page 201\n",
      "collecting page 202\n",
      "collecting page 203\n",
      "collecting page 204\n",
      "collecting page 205\n",
      "collecting page 206\n",
      "collecting page 207\n",
      "collecting page 208\n",
      "collecting page 209\n",
      "collecting page 210\n",
      "collecting page 211\n",
      "collecting page 212\n",
      "collecting page 213\n",
      "collecting page 214\n",
      "collecting page 215\n",
      "collecting page 216\n",
      "collecting page 217\n",
      "collecting page 218\n",
      "collecting page 219\n",
      "collecting page 220\n",
      "collecting page 221\n",
      "collecting page 222\n",
      "collecting page 223\n",
      "collecting page 224\n",
      "collecting page 225\n",
      "collecting page 226\n",
      "collecting page 227\n",
      "collecting page 228\n",
      "collecting page 229\n",
      "collecting page 230\n",
      "collecting page 231\n",
      "collecting page 232\n",
      "collecting page 233\n",
      "collecting page 234\n",
      "collecting page 235\n",
      "collecting page 236\n",
      "collecting page 237\n",
      "collecting page 238\n",
      "collecting page 239\n",
      "collecting page 240\n",
      "collecting page 241\n",
      "collecting page 242\n",
      "collecting page 243\n",
      "collecting page 244\n",
      "collecting page 245\n",
      "collecting page 246\n",
      "collecting page 247\n",
      "collecting page 248\n",
      "collecting page 249\n",
      "collecting page 250\n",
      "collecting page 251\n",
      "collecting page 252\n",
      "collecting page 253\n",
      "collecting page 254\n",
      "collecting page 255\n",
      "collecting page 256\n",
      "collecting page 257\n",
      "collecting page 258\n",
      "collecting page 259\n",
      "collecting page 260\n",
      "collecting page 261\n",
      "collecting page 262\n",
      "collecting page 263\n",
      "collecting page 264\n",
      "collecting page 265\n",
      "collecting page 266\n",
      "collecting page 267\n",
      "collecting page 268\n",
      "collecting page 269\n",
      "collecting page 270\n",
      "collecting page 271\n",
      "collecting page 272\n",
      "collecting page 273\n",
      "collecting page 274\n",
      "collecting page 275\n",
      "collecting page 276\n",
      "collecting page 277\n",
      "collecting page 278\n",
      "collecting page 279\n",
      "collecting page 280\n",
      "collecting page 281\n",
      "collecting page 282\n",
      "collecting page 283\n",
      "collecting page 284\n",
      "collecting page 285\n"
     ]
    }
   ],
   "source": [
    "# set key\n",
    "key=  \"8ab705db-157a-4270-9fd1-a5499f3f1196\"\n",
    "\n",
    "# set base url\n",
    "base_url= \"https://content.guardianapis.com/search?\" #we also need to change this to The Guardian one\n",
    "\n",
    "# set response format\n",
    "response_format=\".json\"\n",
    "\n",
    "# set search parameters\n",
    "search_params = {\"q\": \"David Beckham\",\n",
    "                 \"from-date\" : \"2001-01-01\", #we need to change the dates format\n",
    "                 \"to-date\" : \"2001-12-31\", \n",
    "                 \"show-fields\" : \"body\", #this is the full text of the article!\n",
    "                 \"id\" : \"id\",\n",
    "                 \"format\" : \"json\",\n",
    "                 \"api-key\": key}    \n",
    "\n",
    "# make request\n",
    "r = requests.get(base_url+response_format, params=search_params)\n",
    "    \n",
    "# convert to a dictionary\n",
    "data=json.loads(r.text)\n",
    "    \n",
    "# get number of hits\n",
    "hits = data['response']['pages'] #we need to change this too\n",
    "print(\"number of hits: \", str(hits))\n",
    "    \n",
    "# get number of pages\n",
    "pages = hits \n",
    "    \n",
    "# make an empty list where we'll hold all of our docs for every page\n",
    "all_docs = [] \n",
    "    \n",
    "# now we're ready to loop through the pages\n",
    "for i in range(pages):\n",
    "    print(\"collecting page\", str(i))\n",
    "        \n",
    "    # set the page parameter\n",
    "    search_params['page'] = i\n",
    "        \n",
    "    # make request\n",
    "    r = requests.get(base_url+response_format, params=search_params)\n",
    "    r = requests.get(base_url+response_format, params=search_params)\n",
    "    if r.status_code == 200:\n",
    "        # get text and convert to a dictionary\n",
    "        data=json.loads(r.text)\n",
    "        \n",
    "        # get just the docs\n",
    "        if 'response' in data and 'results' in data['response']: #we need to change this to \"results\"\n",
    "            docs = data['response']['results']\n",
    "        \n",
    "            # add those docs to the big list\n",
    "            all_docs = all_docs + docs\n",
    "    \n",
    "    #IMPORTANT pause between calls\n",
    "    time.sleep(1)"
   ]
  },
  {
   "cell_type": "markdown",
   "id": "fa28c45d",
   "metadata": {},
   "source": [
    "Let's have a look at that first element in our list of documents."
   ]
  },
  {
   "cell_type": "code",
   "execution_count": 24,
   "id": "a4137ba9",
   "metadata": {},
   "outputs": [
    {
     "data": {
      "text/plain": [
       "{'id': 'football/2001/oct/09/sport.seaningle',\n",
       " 'type': 'article',\n",
       " 'sectionId': 'football',\n",
       " 'sectionName': 'Football',\n",
       " 'webPublicationDate': '2001-10-09T14:04:18Z',\n",
       " 'webTitle': 'David Beckham: how deep is your love?',\n",
       " 'webUrl': 'https://www.theguardian.com/football/2001/oct/09/sport.seaningle',\n",
       " 'apiUrl': 'https://content.guardianapis.com/football/2001/oct/09/sport.seaningle',\n",
       " 'fields': {'body': '<p>Back in the 1970s, the Bee Gees asked the world: \\'How deep is your love.\\' Twenty-five years later, Guardian Unlimited feels like asking our readers the same question about England captain David Beckham.</p> <p>So we will. How deep is your love, self-confessed \"Manchester United fan, Beckham admirer and Essex girl\" Mrs Mandy Seymore?</p> <p>\"Beckham\\'s performance on Saturday was one that all Brits will be proud of,\" she gushes, and before we can speak to anyone in Scotland about her comments, she\\'s off again. \"I have always admired him for his footballing abilities and can only hope my son grows up to half as good as he is. His attitude and determination whenever he is on the field is something else.</p> <p>Anything else? \"Add to the fact he is an \\'Essex\\' boy makes him even more of a hero!\" she says.</p> <p>Of course it does. Meanwhile Mrs Seymore faces competition in the Beckham-adulation stakes from Leeds fan (yes, you read that right) Paul Whittle. </p> <p>\"If there was a square inch of the Old Trafford pitch that David Beckham hadn\\'t seen before Saturday, it\\'s a fair bet he\\'s seen it now,\" he gasps. </p> <p>\"Tackling, movement, running at defenders, passing, recovering balls given away, keeping his head, refusing to say die; there\\'s not much point talking about his performance, because anyone who saw it will never forget it, and anyone who didn\\'t (and why didn\\'t you? shame on you!) will never understand it. </p> <p>\"Every World Cup coach is even now studying the video of this game with a sinking heart, and making plans for at least two men to man-mark a genuinely world class player. England\\'s lion roared on Saturday; I can\\'t think of any higher praise.\"</p> <p>No, nor can we. And hats off to Beckham for refusing to say the German word for \\'the\\' too.</p> <p>Meanwhile Mark Griffiths, who hopes Beckham wins the European player of the season, adds: \"how many people scoffed when Peter Taylor announced Beckham\\'s captaincy?</p> <p>Many, Mark, many. But nobody is scoffing now.</p> <p><strong> And now for everybody else...</strong></p> <p>Strip away Becks\\' staggering performance on Saturday, however, and most of you reckon we\\'d be all reading yet another: \"10 things you never knew about Ukraine\" feature.</p> <p>\"Sven Gordon was lucky,\" says Simon Horgan. What do you mean Sven Gordan, Simdon? And why were England so lucky?</p> <p>\"Playing Fowler and Barmby, both of whom are not match sharp, was a massive gamble,\" he says. \"Also in attack, Heskey has not impressed for England since starring in England\\'s 0-1 defeat in Italy under Peter Taylor\\'s guidance, and for me, does not justify a place in the starting 11.\"</p> <p>Anything else? \"England lack true leadership at the back, and if we had defended any deeper would surely have seen Ferdinand and Keown seated in the front row of the Stretford end. </p> <p>\"The only area of the team where I have no worries is the midfield,\" he adds. \"Despite massively under performing on Saturday, Gerrard and Scholes are both world-class on their day, and Beckham is now truly a world great. If only Giggs had opted to be English!\"</p> <p>Fair point, well made Simon. And, you\\'ll be pleased to know, part of it is shared by Bob in London.</p> <p>\"I think England will not get far in the World Cup finals unless three or four defensive players are changed,\" he says. \"I think too much is being asked of the young Ashley Cole and his defensive frailties have been exposed at international level. Rio and Sol (out of form recently) have hardly been impressive, and Gary Neville is probably the best of the bunch but seems to play players on-side.</p> <p>So who would Bob pick instead? \"I think Gareth Southgate plays a solid game at the back and should be considered,\" he insists. Well, at least Sven\\'s not playing him as a defensive-midfielder.</p> <p><strong>Richard Williams upsets you lot again</strong></p> <p>Just like Autumn follows Summer, a Richard Williams comment piece follows England performances. And, as per usual, one or two of you have written in to disagree with it.</p> <p>\"Much as I respect Mr Williams, at least as much as anyone can respect a member of the Fourth Estate, I cannot understand his comments regarding Scholes\\' performance on Saturday,\" says Gordon Smith.</p> <p>\"While Scholes was admittedly woeful, he was no worse than Gerrard, who, other than one ball to Scholes and one to Cole, did absolutely nothing all game. </p> <p>\"How Mr Williams can possibly believe that Joe Cole, who cannot tackle at all, has no experience of having to bed down in that position to provide defensive cover, and is in any case too young and too inexperienced to be a serious candidate to replace someone whose strike rate from midfield is outstanding and only bettered by Owen in the current squad?\"</p> <p>Er, we\\'ll ask him next time he pops in the office. Meanwhile Gordon isn\\'t the only one angry with Mr Williams\\' views.</p> <p>\"When I read that Paul Scholes should be replaced by Joe Cole on the basis of one bad game, when he\\'s actually the teams most consistent performer it beggars belief,\" he says. \"What are Joe Cole\\'s international credentials exactly?\"</p> <p>\"It\\'s also about time that your boring love affair with that ridiculous Thatcherite Sheringham was brought to an end,\" he adds. \"He scored an OK goal, couldn\\'t possibly have been lucky could he? Looked to me like a hopeful back-header into the box. </p> <p>\"Eight out of ten? More like six. He\\'s too old, too slow and he won\\'t be able to cut it against real opposition in the World Cup. Can you see France or anyone defending like that?</p> <p>\"Your journalists are consistent in your protests when foreign players cheat and dive to get dodgy free kicks. Why the wry chuckles all round when \"Teddy\" does it?\"</p> <p>Why? Because objectivity goes out of the window when England have qualified for the World Cup, of course.</p>'},\n",
       " 'isHosted': False,\n",
       " 'pillarId': 'pillar/sport',\n",
       " 'pillarName': 'Sport'}"
      ]
     },
     "execution_count": 24,
     "metadata": {},
     "output_type": "execute_result"
    }
   ],
   "source": [
    "all_docs[0]"
   ]
  },
  {
   "cell_type": "markdown",
   "id": "89d080c5",
   "metadata": {},
   "source": [
    "So, what we want is: id, webPublicationDate, webTitle, webUrl, and the content of the article (that is in fields). Let's modify our function to get us that!"
   ]
  },
  {
   "cell_type": "code",
   "execution_count": 25,
   "id": "66d74234",
   "metadata": {},
   "outputs": [],
   "source": [
    "def format_articles(unformatted_docs):\n",
    "    '''\n",
    "    This function takes in a list of documents returned by the NYT api \n",
    "    and parses the documents into a list of dictionaries, \n",
    "    with 'id', 'header', and 'date' keys\n",
    "    '''\n",
    "    formatted = []\n",
    "    for i in unformatted_docs:\n",
    "        dic = {}\n",
    "        dic['id'] = i['id']\n",
    "        dic['webPublicationDate'] = i['webPublicationDate'] # cutting time of day.\n",
    "        dic['webTitle'] = i['webTitle']\n",
    "        dic[\"webUrl\"] = i[\"webUrl\"]\n",
    "        dic[\"fields\"] = i[\"fields\"]\n",
    "        formatted.append(dic)\n",
    "    return(formatted)"
   ]
  },
  {
   "cell_type": "code",
   "execution_count": 26,
   "id": "898fe7e8",
   "metadata": {},
   "outputs": [],
   "source": [
    "all_formatted = format_articles(all_docs)"
   ]
  },
  {
   "cell_type": "code",
   "execution_count": 27,
   "id": "a642f0cb",
   "metadata": {},
   "outputs": [
    {
     "data": {
      "text/plain": [
       "{'id': 'football/2001/oct/09/sport.seaningle',\n",
       " 'webPublicationDate': '2001-10-09T14:04:18Z',\n",
       " 'webTitle': 'David Beckham: how deep is your love?',\n",
       " 'webUrl': 'https://www.theguardian.com/football/2001/oct/09/sport.seaningle',\n",
       " 'fields': {'body': '<p>Back in the 1970s, the Bee Gees asked the world: \\'How deep is your love.\\' Twenty-five years later, Guardian Unlimited feels like asking our readers the same question about England captain David Beckham.</p> <p>So we will. How deep is your love, self-confessed \"Manchester United fan, Beckham admirer and Essex girl\" Mrs Mandy Seymore?</p> <p>\"Beckham\\'s performance on Saturday was one that all Brits will be proud of,\" she gushes, and before we can speak to anyone in Scotland about her comments, she\\'s off again. \"I have always admired him for his footballing abilities and can only hope my son grows up to half as good as he is. His attitude and determination whenever he is on the field is something else.</p> <p>Anything else? \"Add to the fact he is an \\'Essex\\' boy makes him even more of a hero!\" she says.</p> <p>Of course it does. Meanwhile Mrs Seymore faces competition in the Beckham-adulation stakes from Leeds fan (yes, you read that right) Paul Whittle. </p> <p>\"If there was a square inch of the Old Trafford pitch that David Beckham hadn\\'t seen before Saturday, it\\'s a fair bet he\\'s seen it now,\" he gasps. </p> <p>\"Tackling, movement, running at defenders, passing, recovering balls given away, keeping his head, refusing to say die; there\\'s not much point talking about his performance, because anyone who saw it will never forget it, and anyone who didn\\'t (and why didn\\'t you? shame on you!) will never understand it. </p> <p>\"Every World Cup coach is even now studying the video of this game with a sinking heart, and making plans for at least two men to man-mark a genuinely world class player. England\\'s lion roared on Saturday; I can\\'t think of any higher praise.\"</p> <p>No, nor can we. And hats off to Beckham for refusing to say the German word for \\'the\\' too.</p> <p>Meanwhile Mark Griffiths, who hopes Beckham wins the European player of the season, adds: \"how many people scoffed when Peter Taylor announced Beckham\\'s captaincy?</p> <p>Many, Mark, many. But nobody is scoffing now.</p> <p><strong> And now for everybody else...</strong></p> <p>Strip away Becks\\' staggering performance on Saturday, however, and most of you reckon we\\'d be all reading yet another: \"10 things you never knew about Ukraine\" feature.</p> <p>\"Sven Gordon was lucky,\" says Simon Horgan. What do you mean Sven Gordan, Simdon? And why were England so lucky?</p> <p>\"Playing Fowler and Barmby, both of whom are not match sharp, was a massive gamble,\" he says. \"Also in attack, Heskey has not impressed for England since starring in England\\'s 0-1 defeat in Italy under Peter Taylor\\'s guidance, and for me, does not justify a place in the starting 11.\"</p> <p>Anything else? \"England lack true leadership at the back, and if we had defended any deeper would surely have seen Ferdinand and Keown seated in the front row of the Stretford end. </p> <p>\"The only area of the team where I have no worries is the midfield,\" he adds. \"Despite massively under performing on Saturday, Gerrard and Scholes are both world-class on their day, and Beckham is now truly a world great. If only Giggs had opted to be English!\"</p> <p>Fair point, well made Simon. And, you\\'ll be pleased to know, part of it is shared by Bob in London.</p> <p>\"I think England will not get far in the World Cup finals unless three or four defensive players are changed,\" he says. \"I think too much is being asked of the young Ashley Cole and his defensive frailties have been exposed at international level. Rio and Sol (out of form recently) have hardly been impressive, and Gary Neville is probably the best of the bunch but seems to play players on-side.</p> <p>So who would Bob pick instead? \"I think Gareth Southgate plays a solid game at the back and should be considered,\" he insists. Well, at least Sven\\'s not playing him as a defensive-midfielder.</p> <p><strong>Richard Williams upsets you lot again</strong></p> <p>Just like Autumn follows Summer, a Richard Williams comment piece follows England performances. And, as per usual, one or two of you have written in to disagree with it.</p> <p>\"Much as I respect Mr Williams, at least as much as anyone can respect a member of the Fourth Estate, I cannot understand his comments regarding Scholes\\' performance on Saturday,\" says Gordon Smith.</p> <p>\"While Scholes was admittedly woeful, he was no worse than Gerrard, who, other than one ball to Scholes and one to Cole, did absolutely nothing all game. </p> <p>\"How Mr Williams can possibly believe that Joe Cole, who cannot tackle at all, has no experience of having to bed down in that position to provide defensive cover, and is in any case too young and too inexperienced to be a serious candidate to replace someone whose strike rate from midfield is outstanding and only bettered by Owen in the current squad?\"</p> <p>Er, we\\'ll ask him next time he pops in the office. Meanwhile Gordon isn\\'t the only one angry with Mr Williams\\' views.</p> <p>\"When I read that Paul Scholes should be replaced by Joe Cole on the basis of one bad game, when he\\'s actually the teams most consistent performer it beggars belief,\" he says. \"What are Joe Cole\\'s international credentials exactly?\"</p> <p>\"It\\'s also about time that your boring love affair with that ridiculous Thatcherite Sheringham was brought to an end,\" he adds. \"He scored an OK goal, couldn\\'t possibly have been lucky could he? Looked to me like a hopeful back-header into the box. </p> <p>\"Eight out of ten? More like six. He\\'s too old, too slow and he won\\'t be able to cut it against real opposition in the World Cup. Can you see France or anyone defending like that?</p> <p>\"Your journalists are consistent in your protests when foreign players cheat and dive to get dodgy free kicks. Why the wry chuckles all round when \"Teddy\" does it?\"</p> <p>Why? Because objectivity goes out of the window when England have qualified for the World Cup, of course.</p>'}}"
      ]
     },
     "execution_count": 27,
     "metadata": {},
     "output_type": "execute_result"
    }
   ],
   "source": [
    "all_formatted[0]"
   ]
  },
  {
   "cell_type": "markdown",
   "id": "6a668eab",
   "metadata": {},
   "source": [
    "And now let's store that. We have a super cool David Beckham dataset that we can use for our future data analysis!"
   ]
  },
  {
   "cell_type": "code",
   "execution_count": 28,
   "id": "5e906ecb",
   "metadata": {},
   "outputs": [],
   "source": [
    "keys = all_formatted[1]\n",
    "\n",
    "# writing the rest\n",
    "with open('david_beckham.csv', 'w', encoding = 'utf-8') as output_file:\n",
    "    dict_writer = csv.DictWriter(output_file, keys)\n",
    "    dict_writer.writeheader()\n",
    "    dict_writer.writerows(all_formatted)"
   ]
  },
  {
   "cell_type": "markdown",
   "id": "680c607b",
   "metadata": {},
   "source": [
    "# Exercise"
   ]
  },
  {
   "cell_type": "markdown",
   "id": "d6f51aff",
   "metadata": {},
   "source": [
    "And now: repeat the exercise but enter some term that you may be interested about (i.e. another Athlete, or some other group of news that you would like to see.) Remember to change the name of the csv file to not overwrite your data!"
   ]
  }
 ],
 "metadata": {
  "kernelspec": {
   "display_name": "Python 3 (ipykernel)",
   "language": "python",
   "name": "python3"
  },
  "language_info": {
   "codemirror_mode": {
    "name": "ipython",
    "version": 3
   },
   "file_extension": ".py",
   "mimetype": "text/x-python",
   "name": "python",
   "nbconvert_exporter": "python",
   "pygments_lexer": "ipython3",
   "version": "3.11.7"
  }
 },
 "nbformat": 4,
 "nbformat_minor": 5
}
