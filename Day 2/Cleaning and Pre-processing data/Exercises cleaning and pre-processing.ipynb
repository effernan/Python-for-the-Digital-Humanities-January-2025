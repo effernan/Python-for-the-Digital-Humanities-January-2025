{
 "cells": [
  {
   "cell_type": "markdown",
   "id": "4a405a70",
   "metadata": {},
   "source": [
    "# Cleaning and Preprocessing Exercises"
   ]
  },
  {
   "cell_type": "markdown",
   "id": "1092b788",
   "metadata": {},
   "source": [
    "Let's practice what we have just learnt!"
   ]
  },
  {
   "cell_type": "markdown",
   "id": "4973c0b5",
   "metadata": {},
   "source": [
    "# Exercise 1. Multilingual cleaning and pre-processing"
   ]
  },
  {
   "cell_type": "markdown",
   "id": "779572d6",
   "metadata": {},
   "source": [
    "#### A. Import the libraries"
   ]
  },
  {
   "cell_type": "code",
   "execution_count": 1,
   "id": "c1396059",
   "metadata": {},
   "outputs": [],
   "source": [
    "#Your code in here"
   ]
  },
  {
   "cell_type": "code",
   "execution_count": 2,
   "id": "160727a3",
   "metadata": {},
   "outputs": [],
   "source": [
    "#Solution\n",
    "\n",
    "import pandas as pd\n",
    "\n",
    "import string\n",
    "\n",
    "import nltk\n",
    "from nltk.tokenize import word_tokenize\n",
    "from nltk.corpus import stopwords\n",
    "\n",
    "\n",
    "import nltk\n",
    "from nltk.corpus import gutenberg\n",
    "from nltk.tokenize import word_tokenize"
   ]
  },
  {
   "cell_type": "markdown",
   "id": "c1c21d52",
   "metadata": {},
   "source": [
    "#### B. Open the file that you created in the first exercise (**Vingt milles lieues sous les mers**). "
   ]
  },
  {
   "cell_type": "code",
   "execution_count": 3,
   "id": "5e12eeae",
   "metadata": {},
   "outputs": [],
   "source": [
    "#Your code in here"
   ]
  },
  {
   "cell_type": "code",
   "execution_count": 4,
   "id": "3fc0edb2",
   "metadata": {},
   "outputs": [
    {
     "data": {
      "text/html": [
       "<div>\n",
       "<style scoped>\n",
       "    .dataframe tbody tr th:only-of-type {\n",
       "        vertical-align: middle;\n",
       "    }\n",
       "\n",
       "    .dataframe tbody tr th {\n",
       "        vertical-align: top;\n",
       "    }\n",
       "\n",
       "    .dataframe thead th {\n",
       "        text-align: right;\n",
       "    }\n",
       "</style>\n",
       "<table border=\"1\" class=\"dataframe\">\n",
       "  <thead>\n",
       "    <tr style=\"text-align: right;\">\n",
       "      <th></th>\n",
       "      <th>Chapter</th>\n",
       "      <th>Text</th>\n",
       "    </tr>\n",
       "  </thead>\n",
       "  <tbody>\n",
       "    <tr>\n",
       "      <th>0</th>\n",
       "      <td>Chapter 1</td>\n",
       "      <td>PREMIER\\r\\n\\r\\nUN ÉCUEIL FUYANT.\\r\\n\\r\\n\\r\\nL...</td>\n",
       "    </tr>\n",
       "    <tr>\n",
       "      <th>1</th>\n",
       "      <td>Chapter 2</td>\n",
       "      <td>II\\r\\n\\r\\nLE POUR ET LE CONTRE.\\r\\n\\r\\n\\r\\nA ...</td>\n",
       "    </tr>\n",
       "    <tr>\n",
       "      <th>2</th>\n",
       "      <td>Chapter 3</td>\n",
       "      <td>III\\r\\n\\r\\nCOMME IL PLAIRA A MONSIEUR.\\r\\n\\r\\...</td>\n",
       "    </tr>\n",
       "    <tr>\n",
       "      <th>3</th>\n",
       "      <td>Chapter 4</td>\n",
       "      <td>IV\\r\\n\\r\\nNED LAND.\\r\\n\\r\\n\\r\\nLe commandant ...</td>\n",
       "    </tr>\n",
       "    <tr>\n",
       "      <th>4</th>\n",
       "      <td>Chapter 5</td>\n",
       "      <td>V\\r\\n\\r\\nA L'AVENTURE!\\r\\n\\r\\n\\r\\nLe voyage d...</td>\n",
       "    </tr>\n",
       "    <tr>\n",
       "      <th>5</th>\n",
       "      <td>Chapter 6</td>\n",
       "      <td>VI\\r\\n\\r\\nA TOUTE VAPEUR.\\r\\n\\r\\n\\r\\nA ce cri...</td>\n",
       "    </tr>\n",
       "    <tr>\n",
       "      <th>6</th>\n",
       "      <td>Chapter 7</td>\n",
       "      <td>VII\\r\\n\\r\\nUNE BALEINE D'ESPÈCE INCONNUE.\\r\\n...</td>\n",
       "    </tr>\n",
       "    <tr>\n",
       "      <th>7</th>\n",
       "      <td>Chapter 8</td>\n",
       "      <td>VIII\\r\\n\\r\\nMOBILIS IN MOBILE.\\r\\n\\r\\n\\r\\nCet...</td>\n",
       "    </tr>\n",
       "    <tr>\n",
       "      <th>8</th>\n",
       "      <td>Chapter 9</td>\n",
       "      <td>IX\\r\\n\\r\\nLES COLÈRES DE NED LAND.\\r\\n\\r\\n\\r\\...</td>\n",
       "    </tr>\n",
       "    <tr>\n",
       "      <th>9</th>\n",
       "      <td>Chapter 10</td>\n",
       "      <td>X\\r\\n\\r\\nL'HOMME DES EAUX.\\r\\n\\r\\n\\r\\nC'était...</td>\n",
       "    </tr>\n",
       "    <tr>\n",
       "      <th>10</th>\n",
       "      <td>Chapter 11</td>\n",
       "      <td>XI\\r\\n\\r\\nLE _NAUTILUS_.\\r\\n\\r\\n\\r\\nLe capita...</td>\n",
       "    </tr>\n",
       "    <tr>\n",
       "      <th>11</th>\n",
       "      <td>Chapter 12</td>\n",
       "      <td>XII\\r\\n\\r\\nTOUT PAR L'ÉLECTRICITÉ.\\r\\n\\r\\n\\r\\...</td>\n",
       "    </tr>\n",
       "    <tr>\n",
       "      <th>12</th>\n",
       "      <td>Chapter 13</td>\n",
       "      <td>XIII\\r\\n\\r\\nQUELQUES CHIFFRES.\\r\\n\\r\\n\\r\\nUn ...</td>\n",
       "    </tr>\n",
       "    <tr>\n",
       "      <th>13</th>\n",
       "      <td>Chapter 14</td>\n",
       "      <td>XIV\\r\\n\\r\\nLE FLEUVE NOIR.\\r\\n\\r\\n\\r\\nLa port...</td>\n",
       "    </tr>\n",
       "    <tr>\n",
       "      <th>14</th>\n",
       "      <td>Chapter 15</td>\n",
       "      <td>XV\\r\\n\\r\\nUNE INVITATION PAR LETTRE.\\r\\n\\r\\n\\...</td>\n",
       "    </tr>\n",
       "    <tr>\n",
       "      <th>15</th>\n",
       "      <td>Chapter 16</td>\n",
       "      <td>XVI\\r\\n\\r\\nPROMENADE EN PLAINE.\\r\\n\\r\\n\\r\\nCe...</td>\n",
       "    </tr>\n",
       "    <tr>\n",
       "      <th>16</th>\n",
       "      <td>Chapter 17</td>\n",
       "      <td>XVII\\r\\n\\r\\nUNE FORÊT SOUS-MARINE.\\r\\n\\r\\n\\r\\...</td>\n",
       "    </tr>\n",
       "    <tr>\n",
       "      <th>17</th>\n",
       "      <td>Chapter 18</td>\n",
       "      <td>XVIII\\r\\n\\r\\nQUATRE MILLE LIEUES SOUS LE PACI...</td>\n",
       "    </tr>\n",
       "    <tr>\n",
       "      <th>18</th>\n",
       "      <td>Chapter 19</td>\n",
       "      <td>XIX\\r\\n\\r\\nVANIKORO.\\r\\n\\r\\n\\r\\nCe terrible s...</td>\n",
       "    </tr>\n",
       "    <tr>\n",
       "      <th>19</th>\n",
       "      <td>Chapter 20</td>\n",
       "      <td>XX\\r\\n\\r\\nLE DÉTROIT DE TORRÈS.\\r\\n\\r\\n\\r\\nPe...</td>\n",
       "    </tr>\n",
       "    <tr>\n",
       "      <th>20</th>\n",
       "      <td>Chapter 21</td>\n",
       "      <td>XXI\\r\\n\\r\\nQUELQUES JOURS A TERRE.\\r\\n\\r\\n\\r\\...</td>\n",
       "    </tr>\n",
       "    <tr>\n",
       "      <th>21</th>\n",
       "      <td>Chapter 22</td>\n",
       "      <td>XXII\\r\\n\\r\\nLA FOUDRE DU CAPITAINE NEMO.\\r\\n\\...</td>\n",
       "    </tr>\n",
       "    <tr>\n",
       "      <th>22</th>\n",
       "      <td>Chapter 23</td>\n",
       "      <td>XXIII\\r\\n\\r\\nÆGRI SOMNIA.\\r\\n\\r\\n\\r\\nLe jour ...</td>\n",
       "    </tr>\n",
       "    <tr>\n",
       "      <th>23</th>\n",
       "      <td>Chapter 24</td>\n",
       "      <td>XXIV\\r\\n\\r\\nLE ROYAUME DU CORAIL.\\r\\n\\r\\n\\r\\n...</td>\n",
       "    </tr>\n",
       "    <tr>\n",
       "      <th>24</th>\n",
       "      <td>Chapter 25</td>\n",
       "      <td>PREMIER\\r\\n\\r\\nL'OCÉAN INDIEN.\\r\\n\\r\\n\\r\\nIci...</td>\n",
       "    </tr>\n",
       "    <tr>\n",
       "      <th>25</th>\n",
       "      <td>Chapter 26</td>\n",
       "      <td>II\\r\\n\\r\\nUNE NOUVELLE PROPOSITION DU CAPITAI...</td>\n",
       "    </tr>\n",
       "    <tr>\n",
       "      <th>26</th>\n",
       "      <td>Chapter 27</td>\n",
       "      <td>III\\r\\n\\r\\nUNE PERLE DE DIX MILLIONS.\\r\\n\\r\\n...</td>\n",
       "    </tr>\n",
       "    <tr>\n",
       "      <th>27</th>\n",
       "      <td>Chapter 28</td>\n",
       "      <td>IV\\r\\n\\r\\nLA MER ROUGE.\\r\\n\\r\\n\\r\\nPendant la...</td>\n",
       "    </tr>\n",
       "    <tr>\n",
       "      <th>28</th>\n",
       "      <td>Chapter 29</td>\n",
       "      <td>V\\r\\n\\r\\nARABIAN-TUNNEL.\\r\\n\\r\\n\\r\\nCe jour m...</td>\n",
       "    </tr>\n",
       "    <tr>\n",
       "      <th>29</th>\n",
       "      <td>Chapter 30</td>\n",
       "      <td>VI\\r\\n\\r\\nL'ARCHIPEL GREC.\\r\\n\\r\\n\\r\\nLe lend...</td>\n",
       "    </tr>\n",
       "    <tr>\n",
       "      <th>30</th>\n",
       "      <td>Chapter 31</td>\n",
       "      <td>VII\\r\\n\\r\\nLA MÉDITERRANÉE EN QUARANTE-HUIT H...</td>\n",
       "    </tr>\n",
       "    <tr>\n",
       "      <th>31</th>\n",
       "      <td>Chapter 32</td>\n",
       "      <td>VIII\\r\\n\\r\\nLA BAIE DE VIGO.\\r\\n\\r\\n\\r\\nL'Atl...</td>\n",
       "    </tr>\n",
       "    <tr>\n",
       "      <th>32</th>\n",
       "      <td>Chapter 33</td>\n",
       "      <td>IX\\r\\n\\r\\nUN CONTINENT DISPARU.\\r\\n\\r\\n\\r\\nLe...</td>\n",
       "    </tr>\n",
       "    <tr>\n",
       "      <th>33</th>\n",
       "      <td>Chapter 34</td>\n",
       "      <td>X\\r\\n\\r\\nLES HOUILLÈRES SOUS-MARINES.\\r\\n\\r\\n...</td>\n",
       "    </tr>\n",
       "    <tr>\n",
       "      <th>34</th>\n",
       "      <td>Chapter 35</td>\n",
       "      <td>XI\\r\\n\\r\\nLA MER DE SARGASSES.\\r\\n\\r\\n\\r\\nLa ...</td>\n",
       "    </tr>\n",
       "    <tr>\n",
       "      <th>35</th>\n",
       "      <td>Chapter 36</td>\n",
       "      <td>XII\\r\\n\\r\\nCACHALOTS ET BALEINES.\\r\\n\\r\\n\\r\\n...</td>\n",
       "    </tr>\n",
       "    <tr>\n",
       "      <th>36</th>\n",
       "      <td>Chapter 37</td>\n",
       "      <td>XIII\\r\\n\\r\\nLA BANQUISE.\\r\\n\\r\\n\\r\\nLe _Nauti...</td>\n",
       "    </tr>\n",
       "    <tr>\n",
       "      <th>37</th>\n",
       "      <td>Chapter 38</td>\n",
       "      <td>XIV\\r\\n\\r\\nLE POLE SUD.\\r\\n\\r\\n\\r\\nJe me préc...</td>\n",
       "    </tr>\n",
       "    <tr>\n",
       "      <th>38</th>\n",
       "      <td>Chapter 39</td>\n",
       "      <td>XV\\r\\n\\r\\nACCIDENT OU INCIDENT?\\r\\n\\r\\n\\r\\nLe...</td>\n",
       "    </tr>\n",
       "    <tr>\n",
       "      <th>39</th>\n",
       "      <td>Chapter 40</td>\n",
       "      <td>XVI\\r\\n\\r\\nFAUTE D'AIR.\\r\\n\\r\\n\\r\\nAinsi, aut...</td>\n",
       "    </tr>\n",
       "    <tr>\n",
       "      <th>40</th>\n",
       "      <td>Chapter 41</td>\n",
       "      <td>XVII\\r\\n\\r\\nDU CAP HORN A L'AMAZONE.\\r\\n\\r\\n\\...</td>\n",
       "    </tr>\n",
       "    <tr>\n",
       "      <th>41</th>\n",
       "      <td>Chapter 42</td>\n",
       "      <td>XVIII\\r\\n\\r\\nLES POULPES.\\r\\n\\r\\n\\r\\nPendant ...</td>\n",
       "    </tr>\n",
       "    <tr>\n",
       "      <th>42</th>\n",
       "      <td>Chapter 43</td>\n",
       "      <td>XIX\\r\\n\\r\\nLE GULF-STREAM.\\r\\n\\r\\n\\r\\nCette t...</td>\n",
       "    </tr>\n",
       "    <tr>\n",
       "      <th>43</th>\n",
       "      <td>Chapter 44</td>\n",
       "      <td>XX\\r\\n\\r\\nPAR 47° 24′ DE LATITUDE ET 17° 28′ ...</td>\n",
       "    </tr>\n",
       "    <tr>\n",
       "      <th>44</th>\n",
       "      <td>Chapter 45</td>\n",
       "      <td>XXI\\r\\n\\r\\nUNE HÉCATOMBE.\\r\\n\\r\\n\\r\\nCette fa...</td>\n",
       "    </tr>\n",
       "    <tr>\n",
       "      <th>45</th>\n",
       "      <td>Chapter 46</td>\n",
       "      <td>XXII\\r\\n\\r\\nLES DERNIÈRES PAROLES DU CAPITAIN...</td>\n",
       "    </tr>\n",
       "    <tr>\n",
       "      <th>46</th>\n",
       "      <td>Chapter 47</td>\n",
       "      <td>XXIII\\r\\n\\r\\nCONCLUSION.\\r\\n\\r\\n\\r\\nVoici la ...</td>\n",
       "    </tr>\n",
       "  </tbody>\n",
       "</table>\n",
       "</div>"
      ],
      "text/plain": [
       "       Chapter                                               Text\n",
       "0    Chapter 1   PREMIER\\r\\n\\r\\nUN ÉCUEIL FUYANT.\\r\\n\\r\\n\\r\\nL...\n",
       "1    Chapter 2   II\\r\\n\\r\\nLE POUR ET LE CONTRE.\\r\\n\\r\\n\\r\\nA ...\n",
       "2    Chapter 3   III\\r\\n\\r\\nCOMME IL PLAIRA A MONSIEUR.\\r\\n\\r\\...\n",
       "3    Chapter 4   IV\\r\\n\\r\\nNED LAND.\\r\\n\\r\\n\\r\\nLe commandant ...\n",
       "4    Chapter 5   V\\r\\n\\r\\nA L'AVENTURE!\\r\\n\\r\\n\\r\\nLe voyage d...\n",
       "5    Chapter 6   VI\\r\\n\\r\\nA TOUTE VAPEUR.\\r\\n\\r\\n\\r\\nA ce cri...\n",
       "6    Chapter 7   VII\\r\\n\\r\\nUNE BALEINE D'ESPÈCE INCONNUE.\\r\\n...\n",
       "7    Chapter 8   VIII\\r\\n\\r\\nMOBILIS IN MOBILE.\\r\\n\\r\\n\\r\\nCet...\n",
       "8    Chapter 9   IX\\r\\n\\r\\nLES COLÈRES DE NED LAND.\\r\\n\\r\\n\\r\\...\n",
       "9   Chapter 10   X\\r\\n\\r\\nL'HOMME DES EAUX.\\r\\n\\r\\n\\r\\nC'était...\n",
       "10  Chapter 11   XI\\r\\n\\r\\nLE _NAUTILUS_.\\r\\n\\r\\n\\r\\nLe capita...\n",
       "11  Chapter 12   XII\\r\\n\\r\\nTOUT PAR L'ÉLECTRICITÉ.\\r\\n\\r\\n\\r\\...\n",
       "12  Chapter 13   XIII\\r\\n\\r\\nQUELQUES CHIFFRES.\\r\\n\\r\\n\\r\\nUn ...\n",
       "13  Chapter 14   XIV\\r\\n\\r\\nLE FLEUVE NOIR.\\r\\n\\r\\n\\r\\nLa port...\n",
       "14  Chapter 15   XV\\r\\n\\r\\nUNE INVITATION PAR LETTRE.\\r\\n\\r\\n\\...\n",
       "15  Chapter 16   XVI\\r\\n\\r\\nPROMENADE EN PLAINE.\\r\\n\\r\\n\\r\\nCe...\n",
       "16  Chapter 17   XVII\\r\\n\\r\\nUNE FORÊT SOUS-MARINE.\\r\\n\\r\\n\\r\\...\n",
       "17  Chapter 18   XVIII\\r\\n\\r\\nQUATRE MILLE LIEUES SOUS LE PACI...\n",
       "18  Chapter 19   XIX\\r\\n\\r\\nVANIKORO.\\r\\n\\r\\n\\r\\nCe terrible s...\n",
       "19  Chapter 20   XX\\r\\n\\r\\nLE DÉTROIT DE TORRÈS.\\r\\n\\r\\n\\r\\nPe...\n",
       "20  Chapter 21   XXI\\r\\n\\r\\nQUELQUES JOURS A TERRE.\\r\\n\\r\\n\\r\\...\n",
       "21  Chapter 22   XXII\\r\\n\\r\\nLA FOUDRE DU CAPITAINE NEMO.\\r\\n\\...\n",
       "22  Chapter 23   XXIII\\r\\n\\r\\nÆGRI SOMNIA.\\r\\n\\r\\n\\r\\nLe jour ...\n",
       "23  Chapter 24   XXIV\\r\\n\\r\\nLE ROYAUME DU CORAIL.\\r\\n\\r\\n\\r\\n...\n",
       "24  Chapter 25   PREMIER\\r\\n\\r\\nL'OCÉAN INDIEN.\\r\\n\\r\\n\\r\\nIci...\n",
       "25  Chapter 26   II\\r\\n\\r\\nUNE NOUVELLE PROPOSITION DU CAPITAI...\n",
       "26  Chapter 27   III\\r\\n\\r\\nUNE PERLE DE DIX MILLIONS.\\r\\n\\r\\n...\n",
       "27  Chapter 28   IV\\r\\n\\r\\nLA MER ROUGE.\\r\\n\\r\\n\\r\\nPendant la...\n",
       "28  Chapter 29   V\\r\\n\\r\\nARABIAN-TUNNEL.\\r\\n\\r\\n\\r\\nCe jour m...\n",
       "29  Chapter 30   VI\\r\\n\\r\\nL'ARCHIPEL GREC.\\r\\n\\r\\n\\r\\nLe lend...\n",
       "30  Chapter 31   VII\\r\\n\\r\\nLA MÉDITERRANÉE EN QUARANTE-HUIT H...\n",
       "31  Chapter 32   VIII\\r\\n\\r\\nLA BAIE DE VIGO.\\r\\n\\r\\n\\r\\nL'Atl...\n",
       "32  Chapter 33   IX\\r\\n\\r\\nUN CONTINENT DISPARU.\\r\\n\\r\\n\\r\\nLe...\n",
       "33  Chapter 34   X\\r\\n\\r\\nLES HOUILLÈRES SOUS-MARINES.\\r\\n\\r\\n...\n",
       "34  Chapter 35   XI\\r\\n\\r\\nLA MER DE SARGASSES.\\r\\n\\r\\n\\r\\nLa ...\n",
       "35  Chapter 36   XII\\r\\n\\r\\nCACHALOTS ET BALEINES.\\r\\n\\r\\n\\r\\n...\n",
       "36  Chapter 37   XIII\\r\\n\\r\\nLA BANQUISE.\\r\\n\\r\\n\\r\\nLe _Nauti...\n",
       "37  Chapter 38   XIV\\r\\n\\r\\nLE POLE SUD.\\r\\n\\r\\n\\r\\nJe me préc...\n",
       "38  Chapter 39   XV\\r\\n\\r\\nACCIDENT OU INCIDENT?\\r\\n\\r\\n\\r\\nLe...\n",
       "39  Chapter 40   XVI\\r\\n\\r\\nFAUTE D'AIR.\\r\\n\\r\\n\\r\\nAinsi, aut...\n",
       "40  Chapter 41   XVII\\r\\n\\r\\nDU CAP HORN A L'AMAZONE.\\r\\n\\r\\n\\...\n",
       "41  Chapter 42   XVIII\\r\\n\\r\\nLES POULPES.\\r\\n\\r\\n\\r\\nPendant ...\n",
       "42  Chapter 43   XIX\\r\\n\\r\\nLE GULF-STREAM.\\r\\n\\r\\n\\r\\nCette t...\n",
       "43  Chapter 44   XX\\r\\n\\r\\nPAR 47° 24′ DE LATITUDE ET 17° 28′ ...\n",
       "44  Chapter 45   XXI\\r\\n\\r\\nUNE HÉCATOMBE.\\r\\n\\r\\n\\r\\nCette fa...\n",
       "45  Chapter 46   XXII\\r\\n\\r\\nLES DERNIÈRES PAROLES DU CAPITAIN...\n",
       "46  Chapter 47   XXIII\\r\\n\\r\\nCONCLUSION.\\r\\n\\r\\n\\r\\nVoici la ..."
      ]
     },
     "execution_count": 4,
     "metadata": {},
     "output_type": "execute_result"
    }
   ],
   "source": [
    "#Solution\n",
    "\n",
    "data = pd.read_csv(\"vingt_mille_chapters.csv\", index_col = 0)\n",
    "data"
   ]
  },
  {
   "cell_type": "markdown",
   "id": "dfa1880f",
   "metadata": {},
   "source": [
    "#### C. Extract the text of the chapters into a list"
   ]
  },
  {
   "cell_type": "code",
   "execution_count": 5,
   "id": "03829cac",
   "metadata": {},
   "outputs": [],
   "source": [
    "#Your code in here"
   ]
  },
  {
   "cell_type": "code",
   "execution_count": 6,
   "id": "70fb464d",
   "metadata": {},
   "outputs": [],
   "source": [
    "#Solution\n",
    "\n",
    "text = data[\"Text\"].to_list()"
   ]
  },
  {
   "cell_type": "code",
   "execution_count": 7,
   "id": "3e6cf22b",
   "metadata": {},
   "outputs": [
    {
     "data": {
      "text/plain": [
       "47"
      ]
     },
     "execution_count": 7,
     "metadata": {},
     "output_type": "execute_result"
    }
   ],
   "source": [
    "len(text)"
   ]
  },
  {
   "cell_type": "markdown",
   "id": "0a54a3db",
   "metadata": {},
   "source": [
    "#### D. Tokenize your text"
   ]
  },
  {
   "cell_type": "code",
   "execution_count": 8,
   "id": "b9e4fe92",
   "metadata": {},
   "outputs": [],
   "source": [
    "#Your code in here"
   ]
  },
  {
   "cell_type": "code",
   "execution_count": 9,
   "id": "317eed2c",
   "metadata": {},
   "outputs": [],
   "source": [
    "#Solution\n",
    "tokens = []\n",
    "\n",
    "for i in text:\n",
    "    tokens.append(word_tokenize(i))"
   ]
  },
  {
   "cell_type": "markdown",
   "id": "a1740525",
   "metadata": {},
   "source": [
    "#### E. Lowercase your text"
   ]
  },
  {
   "cell_type": "code",
   "execution_count": 10,
   "id": "ce09156b",
   "metadata": {},
   "outputs": [],
   "source": [
    "#Solution\n",
    "lower_tokens = []\n",
    "\n",
    "for i in tokens:\n",
    "    list_1 = [] \n",
    "    for x in i: \n",
    "        list_1.append(x.lower()) \n",
    "    lower_tokens.append(list_1)"
   ]
  },
  {
   "cell_type": "markdown",
   "id": "6deb498b",
   "metadata": {},
   "source": [
    "#### F. Remove Punctuation"
   ]
  },
  {
   "cell_type": "code",
   "execution_count": 11,
   "id": "2053b252",
   "metadata": {},
   "outputs": [],
   "source": [
    "#Your code in here"
   ]
  },
  {
   "cell_type": "code",
   "execution_count": 12,
   "id": "9292f2b2",
   "metadata": {},
   "outputs": [],
   "source": [
    "#Solution\n",
    "\n",
    "punctuation_free = []\n",
    "\n",
    "for i in lower_tokens:\n",
    "    punctuation_free.append(\" \".join(c for c in i if c not in string.punctuation))"
   ]
  },
  {
   "cell_type": "markdown",
   "id": "e1ea1985",
   "metadata": {},
   "source": [
    "#### G. Remove Stopwords"
   ]
  },
  {
   "cell_type": "code",
   "execution_count": 13,
   "id": "c5cf717a",
   "metadata": {},
   "outputs": [
    {
     "name": "stdout",
     "output_type": "stream",
     "text": [
      "['au', 'aux', 'avec', 'ce', 'ces', 'dans', 'de', 'des', 'du', 'elle', 'en', 'et', 'eux', 'il', 'ils', 'je', 'la', 'le', 'les', 'leur', 'lui', 'ma', 'mais', 'me', 'même', 'mes', 'moi', 'mon', 'ne', 'nos', 'notre', 'nous', 'on', 'ou', 'par', 'pas', 'pour', 'qu', 'que', 'qui', 'sa', 'se', 'ses', 'son', 'sur', 'ta', 'te', 'tes', 'toi', 'ton', 'tu', 'un', 'une', 'vos', 'votre', 'vous', 'c', 'd', 'j', 'l', 'à', 'm', 'n', 's', 't', 'y', 'été', 'étée', 'étées', 'étés', 'étant', 'étante', 'étants', 'étantes', 'suis', 'es', 'est', 'sommes', 'êtes', 'sont', 'serai', 'seras', 'sera', 'serons', 'serez', 'seront', 'serais', 'serait', 'serions', 'seriez', 'seraient', 'étais', 'était', 'étions', 'étiez', 'étaient', 'fus', 'fut', 'fûmes', 'fûtes', 'furent', 'sois', 'soit', 'soyons', 'soyez', 'soient', 'fusse', 'fusses', 'fût', 'fussions', 'fussiez', 'fussent', 'ayant', 'ayante', 'ayantes', 'ayants', 'eu', 'eue', 'eues', 'eus', 'ai', 'as', 'avons', 'avez', 'ont', 'aurai', 'auras', 'aura', 'aurons', 'aurez', 'auront', 'aurais', 'aurait', 'aurions', 'auriez', 'auraient', 'avais', 'avait', 'avions', 'aviez', 'avaient', 'eut', 'eûmes', 'eûtes', 'eurent', 'aie', 'aies', 'ait', 'ayons', 'ayez', 'aient', 'eusse', 'eusses', 'eût', 'eussions', 'eussiez', 'eussent']\n"
     ]
    }
   ],
   "source": [
    "print(stopwords.words(\"french\"))"
   ]
  },
  {
   "cell_type": "code",
   "execution_count": 14,
   "id": "783edfae",
   "metadata": {},
   "outputs": [],
   "source": [
    "#Your code in here"
   ]
  },
  {
   "cell_type": "code",
   "execution_count": 15,
   "id": "2e44821e",
   "metadata": {},
   "outputs": [],
   "source": [
    "#Solution\n",
    "\n",
    "super_clean = []\n",
    "for i in punctuation_free:\n",
    "    super_clean.append(\" \".join(c for c in i.split() if c not in stopwords.words(\"french\")))"
   ]
  },
  {
   "cell_type": "markdown",
   "id": "bfd88b76",
   "metadata": {},
   "source": [
    "#### F. Check out Stopwords in German (this is useful for those of you who want to use German text!)"
   ]
  },
  {
   "cell_type": "code",
   "execution_count": 16,
   "id": "96fbddd8",
   "metadata": {},
   "outputs": [
    {
     "name": "stdout",
     "output_type": "stream",
     "text": [
      "['aber', 'alle', 'allem', 'allen', 'aller', 'alles', 'als', 'also', 'am', 'an', 'ander', 'andere', 'anderem', 'anderen', 'anderer', 'anderes', 'anderm', 'andern', 'anderr', 'anders', 'auch', 'auf', 'aus', 'bei', 'bin', 'bis', 'bist', 'da', 'damit', 'dann', 'der', 'den', 'des', 'dem', 'die', 'das', 'dass', 'daß', 'derselbe', 'derselben', 'denselben', 'desselben', 'demselben', 'dieselbe', 'dieselben', 'dasselbe', 'dazu', 'dein', 'deine', 'deinem', 'deinen', 'deiner', 'deines', 'denn', 'derer', 'dessen', 'dich', 'dir', 'du', 'dies', 'diese', 'diesem', 'diesen', 'dieser', 'dieses', 'doch', 'dort', 'durch', 'ein', 'eine', 'einem', 'einen', 'einer', 'eines', 'einig', 'einige', 'einigem', 'einigen', 'einiger', 'einiges', 'einmal', 'er', 'ihn', 'ihm', 'es', 'etwas', 'euer', 'eure', 'eurem', 'euren', 'eurer', 'eures', 'für', 'gegen', 'gewesen', 'hab', 'habe', 'haben', 'hat', 'hatte', 'hatten', 'hier', 'hin', 'hinter', 'ich', 'mich', 'mir', 'ihr', 'ihre', 'ihrem', 'ihren', 'ihrer', 'ihres', 'euch', 'im', 'in', 'indem', 'ins', 'ist', 'jede', 'jedem', 'jeden', 'jeder', 'jedes', 'jene', 'jenem', 'jenen', 'jener', 'jenes', 'jetzt', 'kann', 'kein', 'keine', 'keinem', 'keinen', 'keiner', 'keines', 'können', 'könnte', 'machen', 'man', 'manche', 'manchem', 'manchen', 'mancher', 'manches', 'mein', 'meine', 'meinem', 'meinen', 'meiner', 'meines', 'mit', 'muss', 'musste', 'nach', 'nicht', 'nichts', 'noch', 'nun', 'nur', 'ob', 'oder', 'ohne', 'sehr', 'sein', 'seine', 'seinem', 'seinen', 'seiner', 'seines', 'selbst', 'sich', 'sie', 'ihnen', 'sind', 'so', 'solche', 'solchem', 'solchen', 'solcher', 'solches', 'soll', 'sollte', 'sondern', 'sonst', 'über', 'um', 'und', 'uns', 'unsere', 'unserem', 'unseren', 'unser', 'unseres', 'unter', 'viel', 'vom', 'von', 'vor', 'während', 'war', 'waren', 'warst', 'was', 'weg', 'weil', 'weiter', 'welche', 'welchem', 'welchen', 'welcher', 'welches', 'wenn', 'werde', 'werden', 'wie', 'wieder', 'will', 'wir', 'wird', 'wirst', 'wo', 'wollen', 'wollte', 'würde', 'würden', 'zu', 'zum', 'zur', 'zwar', 'zwischen']\n"
     ]
    }
   ],
   "source": [
    "print(stopwords.words(\"german\"))"
   ]
  },
  {
   "cell_type": "markdown",
   "id": "921e52d8",
   "metadata": {},
   "source": [
    "# Exercise 2"
   ]
  },
  {
   "cell_type": "markdown",
   "id": "dde02271",
   "metadata": {},
   "source": [
    "#### A. Create a Pandas Dataframe with your clean text"
   ]
  },
  {
   "cell_type": "code",
   "execution_count": 17,
   "id": "bd956581",
   "metadata": {},
   "outputs": [],
   "source": [
    "#Your code in here"
   ]
  },
  {
   "cell_type": "code",
   "execution_count": 17,
   "id": "8bfe330b",
   "metadata": {},
   "outputs": [],
   "source": [
    "#Solution\n",
    "\n",
    "chapter = []\n",
    "\n",
    "x = list(range(1, 48))\n",
    "for i in x:\n",
    "    chapter.append(f\"Chapter {i}\")"
   ]
  },
  {
   "cell_type": "code",
   "execution_count": 18,
   "id": "aba5554a",
   "metadata": {},
   "outputs": [],
   "source": [
    "key_list = chapter\n",
    "value_list = super_clean"
   ]
  },
  {
   "cell_type": "code",
   "execution_count": 19,
   "id": "30640658",
   "metadata": {},
   "outputs": [],
   "source": [
    "data = dict(zip(key_list, value_list))"
   ]
  },
  {
   "cell_type": "code",
   "execution_count": 20,
   "id": "cfd7f8a4",
   "metadata": {},
   "outputs": [],
   "source": [
    "data = pd.DataFrame(chapter, columns = [\"Chapter\"]) #so the only thing that we need to do is to create a dataframe with pandas.\n",
    "data[\"Text\"] = super_clean"
   ]
  },
  {
   "cell_type": "markdown",
   "id": "27285782",
   "metadata": {},
   "source": [
    "#### B. Save that into a csv file"
   ]
  },
  {
   "cell_type": "code",
   "execution_count": 21,
   "id": "f536b4c8",
   "metadata": {},
   "outputs": [],
   "source": [
    "data.to_csv(\"clean_vingtmille_chapters.csv\")"
   ]
  },
  {
   "cell_type": "markdown",
   "id": "a8f7ca49",
   "metadata": {},
   "source": [
    "#### C. Transform your super_clean variable (a list) into a single string"
   ]
  },
  {
   "cell_type": "code",
   "execution_count": 22,
   "id": "f18247ce",
   "metadata": {},
   "outputs": [],
   "source": [
    "#Your code in here"
   ]
  },
  {
   "cell_type": "code",
   "execution_count": 23,
   "id": "45a80755",
   "metadata": {},
   "outputs": [],
   "source": [
    "#Solution\n",
    "\n",
    "full_text = \" \".join(super_clean)"
   ]
  },
  {
   "cell_type": "markdown",
   "id": "28fd3c52",
   "metadata": {},
   "source": [
    "#### D. Store that into a txt file"
   ]
  },
  {
   "cell_type": "code",
   "execution_count": 24,
   "id": "83254f54",
   "metadata": {},
   "outputs": [],
   "source": [
    "#Your code in here"
   ]
  },
  {
   "cell_type": "code",
   "execution_count": 25,
   "id": "f6031819",
   "metadata": {},
   "outputs": [],
   "source": [
    "#Solution\n",
    "\n",
    "with open(\"full_text_vingtmille.txt\", \"w\", encoding = \"utf-8\") as f:\n",
    "    f.write(full_text)"
   ]
  }
 ],
 "metadata": {
  "kernelspec": {
   "display_name": "Python 3 (ipykernel)",
   "language": "python",
   "name": "python3"
  },
  "language_info": {
   "codemirror_mode": {
    "name": "ipython",
    "version": 3
   },
   "file_extension": ".py",
   "mimetype": "text/x-python",
   "name": "python",
   "nbconvert_exporter": "python",
   "pygments_lexer": "ipython3",
   "version": "3.11.7"
  }
 },
 "nbformat": 4,
 "nbformat_minor": 5
}
